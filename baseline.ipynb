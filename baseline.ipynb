{
 "cells": [
  {
   "cell_type": "markdown",
   "id": "83dda969-c304-4984-a250-78bb91832753",
   "metadata": {},
   "source": [
    "# Logistic Regression for Domain Relevance Classification"
   ]
  },
  {
   "cell_type": "markdown",
   "id": "a0595370-9c2a-415b-943e-2176f1943792",
   "metadata": {},
   "source": [
    "`Melina Paxinou`\n",
    "\n",
    "MA Linguistics, Text Mining - Vrije Universiteit Amsterdam\n",
    "\n",
    "June 27, 2025"
   ]
  },
  {
   "cell_type": "markdown",
   "id": "fac8560c-6dab-4806-b2b2-b48a619eeb13",
   "metadata": {},
   "source": [
    "## Imports"
   ]
  },
  {
   "cell_type": "code",
   "execution_count": 2,
   "id": "47e67451-32a8-4d9e-8d9b-7a4fac0cdd22",
   "metadata": {},
   "outputs": [],
   "source": [
    "import pandas as pd\n",
    "import spacy\n",
    "import networkx as nx\n",
    "from collections import defaultdict\n",
    "nlp = spacy.load(\"en_core_web_md\")\n",
    "from spacy.tokens import Doc\n",
    "from sklearn.feature_extraction import DictVectorizer\n",
    "from sklearn.preprocessing import LabelEncoder\n",
    "from sklearn.linear_model import LogisticRegression\n",
    "from sklearn.metrics import classification_report, confusion_matrix, ConfusionMatrixDisplay\n",
    "import numpy as np\n",
    "import matplotlib.pyplot as plt\n",
    "import os\n",
    "import json\n",
    "import ast"
   ]
  },
  {
   "cell_type": "code",
   "execution_count": 14,
   "id": "a1dc4120-f9d4-4c9c-a24a-3834908225d7",
   "metadata": {},
   "outputs": [],
   "source": [
    "test_df_sentence = pd.read_csv('test_sentences.tsv', sep='\\t', header=0)\n",
    "train_df_sentence = pd.read_csv('train_sentences.tsv', sep='\\t', header=0)\n",
    "dev_df_sentence = pd.read_csv('dev_sentences.tsv', sep='\\t', header=0)\n",
    "anno_df_sentence = pd.read_csv('anno_sentences.tsv', sep='\\t', header=0)"
   ]
  },
  {
   "cell_type": "markdown",
   "id": "3f986893-2745-4d74-8f2f-7e21f84d4f29",
   "metadata": {},
   "source": [
    "## Features"
   ]
  },
  {
   "cell_type": "code",
   "execution_count": 16,
   "id": "c7bca53e-7d1b-4be1-87c9-9cf11ec2eebf",
   "metadata": {},
   "outputs": [],
   "source": [
    "def build_dependency_graph(processed_doc):\n",
    "    \"\"\"\n",
    "    Constructs a dependency graph from a processed sentence.\n",
    "\n",
    "    Takes a processed spaCy doc object and creates a graph where each token \n",
    "    is represented as a node, and edges show syntactic dependencies between tokens. The graph \n",
    "    allows bidirectional traversal and each dependency relation is stored in both directions.\n",
    "\n",
    "    Parameters:\n",
    "        processed_doc: A spaCy-processed sentence containing dependency annotations.\n",
    "\n",
    "    Returns:\n",
    "        tuple: \n",
    "            - nx.Graph: undirected graph where nodes are token text (lowercased) \n",
    "              and edges represent dependency relations.\n",
    "            - dict: mapping of (token 1, token 2) → direction (\"↑\" for child → parent, \n",
    "              \"↓\" for parent → child).\n",
    "            - dict: mapping of (token 1, token 2) → dependency label.\n",
    "    \"\"\"\n",
    "    edges = []\n",
    "    dep_directions = {}\n",
    "    dep_labels = {}\n",
    "\n",
    "    for token in processed_doc:\n",
    "        for child in token.children:\n",
    "            edges.append((child.text.lower(), token.text.lower()))  # child → parent\n",
    "            edges.append((token.text.lower(), child.text.lower()))  # parent → child\n",
    "            dep_directions[(child.text.lower(), token.text.lower())] = \"↑\"\n",
    "            dep_directions[(token.text.lower(), child.text.lower())] = \"↓\"\n",
    "            dep_labels[(child.text.lower(), token.text.lower())] = child.dep_\n",
    "            dep_labels[(token.text.lower(), child.text.lower())] = child.dep_\n",
    "\n",
    "    return nx.Graph(edges), dep_directions, dep_labels\n"
   ]
  },
  {
   "cell_type": "code",
   "execution_count": 18,
   "id": "83eae372-094f-412d-819d-a595221d0a91",
   "metadata": {},
   "outputs": [],
   "source": [
    "def find_dep_path(graph, dep_directions, dep_labels, word, predicate):\n",
    "    \"\"\"\n",
    "    Finds the shortest dependency path between a given word and a predicate \n",
    "    in a dependency graph (with directions).\n",
    "\n",
    "    Parameters:\n",
    "        graph (nx.Graph): dependency graph where nodes are words (lowercased).\n",
    "        dep_directions (dict): dict mapping (word 1, word 2) → direction \n",
    "                               (\"↑\" for child → parent, \"↓\" for parent → child).\n",
    "        dep_labels (dict): dict mapping (word 1, word 2) → dependency label.\n",
    "        word (str): starting word in the dependency tree.\n",
    "        predicate (str): predicate word in the dependency tree.\n",
    "\n",
    "    Returns:\n",
    "        str: string representing the shortest dependency path \n",
    "             with dependency labels and direction arrows (e.g., \"nsubj ↑ prep ↓\").\n",
    "             Returns \"No Path\" if no path exists between the given words.\n",
    "    \"\"\"\n",
    "    try: # shortest dependency path between the given word and predicate\n",
    "        dep_path = nx.shortest_path(graph, source=word.lower(), target=predicate.lower())\n",
    "        # dependency labels and directional arrows\n",
    "        arrow_path = [\n",
    "            f\"{dep_labels.get((dep_path[i], dep_path[i+1]), '?')} {dep_directions.get((dep_path[i], dep_path[i+1]), '?')}\"\n",
    "            for i in range(len(dep_path) - 1)\n",
    "        ] \n",
    "        return \" \".join(arrow_path)\n",
    "    except (nx.NetworkXNoPath, ValueError, nx.NodeNotFound):\n",
    "        return \"No Path\"\n"
   ]
  },
  {
   "cell_type": "code",
   "execution_count": 20,
   "id": "8384645a-9530-44bf-8b87-4580a5394bb6",
   "metadata": {},
   "outputs": [],
   "source": [
    "def extract_paths_to_domain_lemmas(sentence, domain_lemmas):\n",
    "    \"\"\"\n",
    "    Extracts the shortest dependency path from each word in the sentence\n",
    "    to the nearest domain-specific term, matched by lemma.\n",
    "\n",
    "    Parameters:\n",
    "        sentence (str): raw sentence string\n",
    "        domain_lemmas (set): domain-specific terms as lemmas (lowercased)\n",
    "\n",
    "    Returns:\n",
    "        dict: word → shortest dependency path to any domain term (or \"No Path\")\n",
    "    \"\"\"\n",
    "    doc = nlp(sentence)\n",
    "    graph, dep_directions, dep_labels = build_dependency_graph(doc)\n",
    "\n",
    "    # maps lemmas to token.text.lower()\n",
    "    lemma_to_token = defaultdict(set)\n",
    "    for token in doc:\n",
    "        lemma_to_token[token.lemma_.lower()].add(token.text.lower())\n",
    "\n",
    "    # gets all matching token texts for the domain lemmas\n",
    "    matching_tokens = set()\n",
    "    for lemma in domain_lemmas:\n",
    "        matching_tokens.update(lemma_to_token.get(lemma.lower(), []))\n",
    "\n",
    "    paths = {}\n",
    "    for token in doc:\n",
    "        token_text = token.text.lower()\n",
    "        shortest_path = None\n",
    "        shortest_path_str = None\n",
    "        \n",
    "        for domain_token in matching_tokens:\n",
    "            if domain_token in graph:\n",
    "                path_str = find_dep_path(graph, dep_directions, dep_labels, token_text, domain_token)\n",
    "                if path_str != \"No Path\":\n",
    "                    path_len = len(path_str.split())\n",
    "                    if shortest_path is None or path_len < shortest_path:\n",
    "                        shortest_path = path_len\n",
    "                        shortest_path_str = path_str\n",
    "        \n",
    "        paths[token.text] = shortest_path_str if shortest_path_str else \"No Path\"\n",
    "    \n",
    "    return paths\n"
   ]
  },
  {
   "cell_type": "code",
   "execution_count": 22,
   "id": "57d35802-0f36-4d07-acba-7d043fd7fc00",
   "metadata": {},
   "outputs": [],
   "source": [
    "def extract_features_from_sentence_level_df(df_sentence_level, domain_lemmas):\n",
    "    import math\n",
    "    from spacy.tokens import Doc\n",
    "    df_sentence_level['sentence_tokens'] = df_sentence_level['sentence_tokens'].apply(\n",
    "    lambda x: ast.literal_eval(x) if isinstance(x, str) else x\n",
    "    )\n",
    "    # print(df_sentence_level.head())\n",
    "    # print(df_sentence_level.iloc[0]['sentence_tokens'])\n",
    "    # print(type(df_sentence_level.iloc[0]['sentence_tokens']))\n",
    "\n",
    "    features = []\n",
    "    domain_lemmas = [str(lemma).lower() for lemma in domain_lemmas]\n",
    "\n",
    "    for _, row in df_sentence_level.iterrows():\n",
    "        tokens = row['sentence_tokens']\n",
    "        target_idx = row['target_token_index']\n",
    "\n",
    "        cleaned_tokens = []\n",
    "        for t in tokens:\n",
    "            if t is None or (isinstance(t, float) and math.isnan(t)):\n",
    "                cleaned_tokens.append(\"[empty]\")\n",
    "            else:\n",
    "                cleaned_tokens.append(str(t))\n",
    "\n",
    "        # builds spaCy Doc and process\n",
    "        spacy_doc = Doc(nlp.vocab, words=cleaned_tokens)\n",
    "        processed_doc = nlp(spacy_doc)\n",
    "\n",
    "        # builds dependency graph, directions, labels \n",
    "        graph, dep_directions, dep_labels = build_dependency_graph(processed_doc)\n",
    "\n",
    "        # finds all domain lemma indices in sentence\n",
    "        domain_indices = [\n",
    "            i for i, token in enumerate(processed_doc)\n",
    "            if token.lemma_.lower() in domain_lemmas\n",
    "        ]\n",
    "\n",
    "        path_feature = \"No Path\"\n",
    "        immunotherapy_token = \"no relevant tokens\"\n",
    "\n",
    "        if domain_indices:\n",
    "            shortest_path_str = None\n",
    "            chosen_domain_lemma = None\n",
    "\n",
    "            for domain_idx in domain_indices:\n",
    "                try:\n",
    "                    path_str = find_dep_path(\n",
    "                        graph,\n",
    "                        dep_directions,\n",
    "                        dep_labels,\n",
    "                        processed_doc[target_idx].text.lower(),\n",
    "                        processed_doc[domain_idx].text.lower()\n",
    "                    )\n",
    "                except Exception:\n",
    "                    path_str = \"No Path\"\n",
    "\n",
    "                if path_str != \"No Path\":\n",
    "                    if shortest_path_str is None or len(path_str) < len(shortest_path_str):\n",
    "                        shortest_path_str = path_str\n",
    "                        chosen_domain_lemma = processed_doc[domain_idx].lemma_\n",
    "\n",
    "            if shortest_path_str is not None:\n",
    "                path_feature = shortest_path_str\n",
    "                immunotherapy_token = chosen_domain_lemma\n",
    "\n",
    "        features.append({\n",
    "            'target_token': cleaned_tokens[target_idx],\n",
    "            'path_to_immuno': path_feature,\n",
    "            'immunotherapy_token': immunotherapy_token\n",
    "        })\n",
    "\n",
    "    return features\n"
   ]
  },
  {
   "cell_type": "code",
   "execution_count": 24,
   "id": "cd0ee66f-971a-491f-9f45-107c23549448",
   "metadata": {},
   "outputs": [],
   "source": [
    "immunotherapy_terms = [\n",
    "    \"immunotherapy\", \"immune\", \"antigen\", \"antibody\", \"vaccine\", \"checkpoint\", \"pd-1\",\n",
    "    \"pd-l1\", \"ctla-4\", \"cytokine\", \"t-cell\", \"b-cell\", \"lymphocyte\", \"macrophage\",\n",
    "    \"dendritic\", \"interleukin\", \"tumor\", \"cancer\", \"melanoma\", \"car-t\", \"monoclonal\",\n",
    "    \"adoptive\", \"therapy\", \"immunomodulation\", \"immunosuppression\", \"immunogenic\",\n",
    "    \"immune-related\", \"tolerance\", \"antigen-presenting\", \"fusion-protein\", \"biomarker\",\n",
    "    \"neoplasm\", \"oncology\", \"immune-checkpoint\", \"effector\", \"regulatory\", \"inflammation\",\n",
    "    \"autoimmune\", \"perforin\", \"immune-response\", \"tumour\", \"immune-activation\",\n",
    "    \"allergy\", \"adenocarcinoma\", \"adenovirus\", \"biopsy\", \"bone marrow\", \"checkpoint inhibitor\",\n",
    "    \"chemotherapy\", \"clinical trial\", \"endocrine\", \"genetic mutation\", \"immune modulator\",\n",
    "    \"immune system\", \"immunohistochemistry\", \"immuno-oncology\", \"insulin\", \"insulinoma\",\n",
    "    \"lymph\", \"lymph node\", \"melanocytes\", \"radiation\", \"recurrence\", \"remission\",\n",
    "    \"stem cell\", \"white blood cell\"\n",
    "]\n"
   ]
  },
  {
   "cell_type": "code",
   "execution_count": 26,
   "id": "7d45bb49-b2e8-4e26-b67d-88b8c167d484",
   "metadata": {},
   "outputs": [],
   "source": [
    "train_features = extract_features_from_sentence_level_df(train_df_sentence, immunotherapy_terms)"
   ]
  },
  {
   "cell_type": "code",
   "execution_count": 27,
   "id": "feaaeb79-a13d-461b-a849-166397f0a7e7",
   "metadata": {},
   "outputs": [],
   "source": [
    "dev_features = extract_features_from_sentence_level_df(dev_df_sentence, immunotherapy_terms)"
   ]
  },
  {
   "cell_type": "code",
   "execution_count": 28,
   "id": "8ace60dd-d987-48d9-8b58-0bf777be10ca",
   "metadata": {
    "scrolled": true
   },
   "outputs": [],
   "source": [
    "test_features = extract_features_from_sentence_level_df(test_df_sentence, immunotherapy_terms)"
   ]
  },
  {
   "cell_type": "code",
   "execution_count": 29,
   "id": "d0987b0f-fd97-4f53-abbf-c4c723884e56",
   "metadata": {},
   "outputs": [
    {
     "data": {
      "text/plain": [
       "[{'target_token': 'barrier',\n",
       "  'path_to_immuno': 'pobj ↑ prep ↑ nsubj ↓ amod ↓',\n",
       "  'immunotherapy_token': 'immune'},\n",
       " {'target_token': 'bridge',\n",
       "  'path_to_immuno': 'pobj ↑ prep ↑ pcomp ↑ prep ↑ nsubj ↓',\n",
       "  'immunotherapy_token': 'therapy'},\n",
       " {'target_token': 'landmark',\n",
       "  'path_to_immuno': 'prep ↓ prep ↑',\n",
       "  'immunotherapy_token': 'cancer'},\n",
       " {'target_token': 'pillar',\n",
       "  'path_to_immuno': 'prep ↓ prep ↑ dobj ↑ nsubj ↓ compound ↓',\n",
       "  'immunotherapy_token': 'checkpoint'},\n",
       " {'target_token': 'pillar',\n",
       "  'path_to_immuno': 'prep ↓ pcomp ↓ dobj ↓',\n",
       "  'immunotherapy_token': 'tumour'},\n",
       " {'target_token': 'platform',\n",
       "  'path_to_immuno': 'pobj ↑ prep ↑',\n",
       "  'immunotherapy_token': 'immunotherapy'},\n",
       " {'target_token': 'salvage',\n",
       "  'path_to_immuno': 'compound ↑ prep ↓ pobj ↓ prep ↓ pobj ↓',\n",
       "  'immunotherapy_token': 'cancer'},\n",
       " {'target_token': 'regulatory',\n",
       "  'path_to_immuno': '',\n",
       "  'immunotherapy_token': 'regulatory'},\n",
       " {'target_token': 'regulatory',\n",
       "  'path_to_immuno': '',\n",
       "  'immunotherapy_token': 'regulatory'},\n",
       " {'target_token': 'poison',\n",
       "  'path_to_immuno': 'conj ↑ conj ↑ pobj ↑ prep ↑ prep ↓ pobj ↓ prep ↓ pobj ↓ compound ↓',\n",
       "  'immunotherapy_token': 'cancer'},\n",
       " {'target_token': 'cloak',\n",
       "  'path_to_immuno': 'dobj ↑ advcl ↑ conj ↑ nsubj ↓',\n",
       "  'immunotherapy_token': 'immunotherapy'},\n",
       " {'target_token': 'marker',\n",
       "  'path_to_immuno': 'prep ↓ pobj ↓',\n",
       "  'immunotherapy_token': 'immunotherapy'},\n",
       " {'target_token': 'marker',\n",
       "  'path_to_immuno': 'prep ↓ pcomp ↓ dobj ↓ compound ↓',\n",
       "  'immunotherapy_token': 'immunotherapy'},\n",
       " {'target_token': 'marker',\n",
       "  'path_to_immuno': 'pobj ↑ prep ↑ nsubj ↓ amod ↓',\n",
       "  'immunotherapy_token': 'immune'},\n",
       " {'target_token': 'markers',\n",
       "  'path_to_immuno': 'pobj ↑ prep ↑ xcomp ↑ xcomp ↑ advcl ↓ nsubjpass ↓ prep ↓ pobj ↓',\n",
       "  'immunotherapy_token': 'biomarker'},\n",
       " {'target_token': 'flags',\n",
       "  'path_to_immuno': 'No Path',\n",
       "  'immunotherapy_token': 'no relevant tokens'},\n",
       " {'target_token': 'reprogramme',\n",
       "  'path_to_immuno': 'relcl ↑',\n",
       "  'immunotherapy_token': 'immunotherapy'},\n",
       " {'target_token': 'retrained',\n",
       "  'path_to_immuno': 'xcomp ↓ xcomp ↓ dobj ↓ nmod ↓',\n",
       "  'immunotherapy_token': 'insulin'},\n",
       " {'target_token': 'carrier',\n",
       "  'path_to_immuno': 'No Path',\n",
       "  'immunotherapy_token': 'no relevant tokens'},\n",
       " {'target_token': 'ants',\n",
       "  'path_to_immuno': 'No Path',\n",
       "  'immunotherapy_token': 'no relevant tokens'}]"
      ]
     },
     "execution_count": 29,
     "metadata": {},
     "output_type": "execute_result"
    }
   ],
   "source": [
    "test_features[:20]"
   ]
  },
  {
   "cell_type": "code",
   "execution_count": 30,
   "id": "cc69db50-73da-473c-8dd8-957fe4bc6ac3",
   "metadata": {},
   "outputs": [],
   "source": [
    "anno_features = extract_features_from_sentence_level_df(anno_df_sentence, immunotherapy_terms)"
   ]
  },
  {
   "cell_type": "code",
   "execution_count": 31,
   "id": "eec5396a-7918-4439-aaeb-a25db1928e27",
   "metadata": {},
   "outputs": [],
   "source": [
    "def extract_gold_labels(df):\n",
    "    \n",
    "    return df['is_it_relevant'].tolist()\n"
   ]
  },
  {
   "cell_type": "code",
   "execution_count": 32,
   "id": "f81d18ee-a8db-4c5c-9465-361c8c72b9f6",
   "metadata": {},
   "outputs": [],
   "source": [
    "train_gold = extract_gold_labels(train_df_sentence)"
   ]
  },
  {
   "cell_type": "code",
   "execution_count": 33,
   "id": "a789ab59-332e-42ec-a6a6-b4761828f14d",
   "metadata": {},
   "outputs": [],
   "source": [
    "dev_gold = extract_gold_labels(dev_df_sentence)"
   ]
  },
  {
   "cell_type": "code",
   "execution_count": 34,
   "id": "4f9db902-05e2-4e37-b7c1-ee3b255998ed",
   "metadata": {},
   "outputs": [],
   "source": [
    "test_gold = extract_gold_labels(test_df_sentence)"
   ]
  },
  {
   "cell_type": "code",
   "execution_count": 35,
   "id": "39f6f683-59f6-4176-bbde-43ece58384d5",
   "metadata": {},
   "outputs": [
    {
     "data": {
      "text/plain": [
       "[1, 1, 1, 1, 1, 1, 1, 1, 1, 1, 1, 1, 1, 1, 1, 1, 1, 1, 1, 1]"
      ]
     },
     "execution_count": 35,
     "metadata": {},
     "output_type": "execute_result"
    }
   ],
   "source": [
    "train_gold[:20]"
   ]
  },
  {
   "cell_type": "code",
   "execution_count": 36,
   "id": "d2b02441-2f45-4871-9404-55c860722c1a",
   "metadata": {},
   "outputs": [],
   "source": [
    "anno_gold = extract_gold_labels(anno_df_sentence)"
   ]
  },
  {
   "cell_type": "markdown",
   "id": "af206821-5c75-43ad-a776-c22df77d91a6",
   "metadata": {},
   "source": [
    "## Logistic Regression"
   ]
  },
  {
   "cell_type": "code",
   "execution_count": 37,
   "id": "3e1832b5-7e0c-44c1-9d07-a734eb498d41",
   "metadata": {},
   "outputs": [],
   "source": [
    "def create_classifier(train_feats, train_targets):\n",
    "    \"\"\"\n",
    "    Creates and trains a classifier using Logistic Regression.\n",
    "\n",
    "    Parameters:\n",
    "    train_feats (list): List of feature dictionaries for training data.\n",
    "    train_targets (list): List of target labels for training data.\n",
    "\n",
    "    Returns:\n",
    "    model: Trained logistic regression model.\n",
    "    vec: Fitted DictVectorizer for feature transformation.\n",
    "    encoder: Fitted LabelEncoder for target encoding.\n",
    "    \"\"\"\n",
    "    \n",
    "    # converts the feature dictionaries into a sparse matrix with DictVectorizer\n",
    "    vec = DictVectorizer()  \n",
    "    features_vectorized = vec.fit_transform(train_feats) \n",
    "    \n",
    "    # initializes Logistic Regression model and trains\n",
    "    logreg = LogisticRegression(max_iter=2000, solver='saga')  \n",
    "    model = logreg.fit(features_vectorized, train_targets)  \n",
    "\n",
    "    return model, vec"
   ]
  },
  {
   "cell_type": "code",
   "execution_count": 38,
   "id": "2a4db4ce-56da-43ee-bf4c-5ca13606b9db",
   "metadata": {},
   "outputs": [],
   "source": [
    "logreg_model, logreg_vec = create_classifier(train_features, train_gold)"
   ]
  },
  {
   "cell_type": "code",
   "execution_count": 40,
   "id": "53bb3635-b291-46a1-839e-55bf15c73acb",
   "metadata": {},
   "outputs": [],
   "source": [
    "def classify_data(model, vec, feats):\n",
    "    \"\"\"\n",
    "    Transforms input features using a vectorizer and predicts labels using a trained model.\n",
    "\n",
    "    Parameters:\n",
    "        model: trained logreg model.\n",
    "        vec: vectorizer.\n",
    "        feats: features to be transformed and classified.\n",
    "\n",
    "    Returns:\n",
    "        predicted labels for the input features.\n",
    "    \"\"\"\n",
    "    feats = vec.transform(feats)\n",
    "    predictions = model.predict(feats)\n",
    "    return predictions"
   ]
  },
  {
   "cell_type": "code",
   "execution_count": 41,
   "id": "49e8b960-6384-459a-b647-74d1330fc9a9",
   "metadata": {},
   "outputs": [],
   "source": [
    "pred = classify_data(logreg_model, logreg_vec, anno_features)"
   ]
  },
  {
   "cell_type": "code",
   "execution_count": 42,
   "id": "420e32ce-232c-4202-994c-62e67d5bcc7a",
   "metadata": {},
   "outputs": [
    {
     "data": {
      "text/plain": [
       "array([1, 1, 1, 1, 1, 1, 1, 0, 1, 1, 1, 1, 1, 1, 1, 1, 1, 1, 1, 1])"
      ]
     },
     "execution_count": 42,
     "metadata": {},
     "output_type": "execute_result"
    }
   ],
   "source": [
    "pred[:20]"
   ]
  },
  {
   "cell_type": "code",
   "execution_count": 43,
   "id": "9a23e742-e175-4b22-bfde-d1bdbb160cec",
   "metadata": {},
   "outputs": [],
   "source": [
    "test_pred = classify_data(logreg_model, logreg_vec, test_features)"
   ]
  },
  {
   "cell_type": "code",
   "execution_count": 45,
   "id": "372d81f3-495a-43ae-af8f-03e5bbab73fa",
   "metadata": {},
   "outputs": [],
   "source": [
    "def write_predictions_to_tsv(input_file, output_file, predictions, gold_labels):\n",
    "    \"\"\"\n",
    "    Writes predictions and gold labels to a TSV file, appending them to each token line.\n",
    "    Skips the header line (first line) and aligns predictions/gold labels with tokens.\n",
    "\n",
    "    Parameters:\n",
    "    input_file : str\n",
    "        Path to the original token-level input file (with header).\n",
    "    output_file : str\n",
    "        Path to the output TSV file with predictions and gold labels.\n",
    "    predictions : list of int\n",
    "        Predicted labels (e.g., 0 or 1).\n",
    "    gold_labels : list of int\n",
    "        True labels (e.g., 0 or 1).\n",
    "    \"\"\"\n",
    "    if isinstance(predictions[0], list):\n",
    "        predictions = [p for sublist in predictions for p in sublist]\n",
    "    if isinstance(gold_labels[0], list):\n",
    "        gold_labels = [g for sublist in gold_labels for g in sublist]\n",
    "\n",
    "    with open(input_file, \"r\", encoding=\"utf-8\") as fin, \\\n",
    "         open(output_file, \"w\", encoding=\"utf-8\") as fout:\n",
    "\n",
    "        idx = 0\n",
    "        for line_num, line in enumerate(fin):\n",
    "            stripped = line.strip()\n",
    "\n",
    "            if line_num == 0:\n",
    "                fout.write(line.rstrip(\"\\n\") + \"\\tpred\\n\")\n",
    "                continue\n",
    "\n",
    "            if stripped == \"\" or stripped.startswith(\"#\"):\n",
    "                fout.write(line)\n",
    "                continue\n",
    "\n",
    "            columns = stripped.split()\n",
    "            token_text = columns[0] if len(columns) > 0 else \"\"\n",
    "\n",
    "            if token_text == \"\":\n",
    "                fout.write(line.rstrip(\"\\n\") + \"\\t_\\t_\\n\")\n",
    "                continue\n",
    "\n",
    "            try:\n",
    "                pred_label = predictions[idx]\n",
    "                gold_label = gold_labels[idx]\n",
    "            except IndexError:\n",
    "                raise IndexError(\n",
    "                    f\"Prediction/gold label index {idx} out of range. \"\n",
    "                    f\"Check if predictions/gold labels match input tokens.\"\n",
    "                )\n",
    "\n",
    "            fout.write(line.rstrip(\"\\n\") + f\"\\t{pred_label}\\n\")\n",
    "            idx += 1\n"
   ]
  },
  {
   "cell_type": "code",
   "execution_count": 46,
   "id": "ca587bc6-8910-4a25-ae3f-8926c1a25298",
   "metadata": {},
   "outputs": [],
   "source": [
    "write_predictions_to_tsv('anno_sentences.tsv', 'anno_baseline_predictions.tsv', pred, anno_gold)"
   ]
  },
  {
   "cell_type": "code",
   "execution_count": 47,
   "id": "b116f5b5-4a80-4330-a54a-728f46ceab00",
   "metadata": {},
   "outputs": [],
   "source": [
    "write_predictions_to_tsv('test_sentences.tsv', 'test_baseline_predictions.tsv', test_pred, test_gold)"
   ]
  },
  {
   "cell_type": "markdown",
   "id": "c718358a-2654-4434-b282-def7d56f6d44",
   "metadata": {},
   "source": [
    "## Evaluation"
   ]
  },
  {
   "cell_type": "code",
   "execution_count": 48,
   "id": "9ac432e4-97c8-40b0-bfc2-cbeb9faae6c4",
   "metadata": {},
   "outputs": [],
   "source": [
    "def evaluate_file(tsv_file):\n",
    "    \"\"\"\n",
    "    Evaluate a TSV file with gold and predicted labels by creating a classification report and confusion matrix.\n",
    "    Evaluation is restricted to rows where is_metaphor == 1 (i.e., target metaphor tokens).\n",
    "\n",
    "    Parameters:\n",
    "        tsv_file (str): Path to the TSV file.\n",
    "\n",
    "    Returns:\n",
    "        None\n",
    "    \"\"\"\n",
    "\n",
    "    df = pd.read_csv(tsv_file, sep=\"\\t\")\n",
    "\n",
    "    y_true = df[\"is_it_relevant\"].apply(lambda x: 1 if x == 1 else 0).tolist()\n",
    "    y_pred = df[\"pred\"].apply(lambda x: 1 if x == 1 else 0).tolist()\n",
    "\n",
    "    print(\"Classification Report:\")\n",
    "    print(classification_report(\n",
    "        y_true,\n",
    "        y_pred,\n",
    "        labels=[0, 1],\n",
    "        target_names=['IRRELEVANT (0)', 'RELEVANT (1)'],\n",
    "        digits=3,\n",
    "        zero_division=0\n",
    "    ))\n",
    "\n",
    "    cm = confusion_matrix(y_true, y_pred, labels=[0, 1])\n",
    "    disp = ConfusionMatrixDisplay(confusion_matrix=cm, display_labels=['IRRELEVANT (0)', 'RELEVANT (1)'])\n",
    "\n",
    "    fig, ax = plt.subplots(figsize=(6, 6))\n",
    "    disp.plot(cmap=\"magma_r\", ax=ax)\n",
    "    plt.title(\"Confusion Matrix\")\n",
    "    plt.xlabel(\"Predicted Labels\")\n",
    "    plt.ylabel(\"True Labels\")\n",
    "    plt.show()"
   ]
  },
  {
   "cell_type": "code",
   "execution_count": 49,
   "id": "fe3caa7f-9fb4-4575-924c-57ed914dd733",
   "metadata": {},
   "outputs": [
    {
     "name": "stdout",
     "output_type": "stream",
     "text": [
      "Classification Report:\n",
      "                precision    recall  f1-score   support\n",
      "\n",
      "IRRELEVANT (0)      0.933     0.389     0.549        36\n",
      "  RELEVANT (1)      0.371     0.929     0.531        14\n",
      "\n",
      "      accuracy                          0.540        50\n",
      "     macro avg      0.652     0.659     0.540        50\n",
      "  weighted avg      0.776     0.540     0.544        50\n",
      "\n"
     ]
    },
    {
     "data": {
      "image/png": "[encoded data removed]",
      "text/plain": [
       "<Figure size 600x600 with 2 Axes>"
      ]
     },
     "metadata": {},
     "output_type": "display_data"
    }
   ],
   "source": [
    "evaluate_file('anno_baseline_predictions.tsv')"
   ]
  },
  {
   "cell_type": "code",
   "execution_count": 50,
   "id": "3013d50a-ba28-4127-861d-184a8279bd94",
   "metadata": {},
   "outputs": [
    {
     "name": "stdout",
     "output_type": "stream",
     "text": [
      "Classification Report:\n",
      "                precision    recall  f1-score   support\n",
      "\n",
      "IRRELEVANT (0)      0.863     0.873     0.868       181\n",
      "  RELEVANT (1)      0.791     0.777     0.784       112\n",
      "\n",
      "      accuracy                          0.836       293\n",
      "     macro avg      0.827     0.825     0.826       293\n",
      "  weighted avg      0.836     0.836     0.836       293\n",
      "\n"
     ]
    },
    {
     "data": {
      "image/png": "[encoded data removed]",
      "text/plain": [
       "<Figure size 600x600 with 2 Axes>"
      ]
     },
     "metadata": {},
     "output_type": "display_data"
    }
   ],
   "source": [
    "evaluate_file('test_baseline_predictions.tsv')"
   ]
  },
  {
   "cell_type": "code",
   "execution_count": 53,
   "id": "ecdeded2-a6b0-438b-a4ed-59cb88f2ebbc",
   "metadata": {},
   "outputs": [],
   "source": [
    "def show_misclassified_tokens(tsv_file):\n",
    "    columns = [\n",
    "        # \"text_id\",\n",
    "        \"sentence_number\",\n",
    "        \"sentence_tokens\",\n",
    "        \"token_text\",\n",
    "        \"metaphor\",\n",
    "        \"is_it_relevant\",\n",
    "        \"text_id\",\n",
    "        \"pred\"\n",
    "    ]\n",
    "\n",
    "    df = pd.read_csv(tsv_file, sep=\"\\t\", header=0, names=columns)\n",
    "\n",
    "    df[\"is_it_relevant\"] = df[\"is_it_relevant\"].apply(lambda x: 1 if x == 1 else 0)\n",
    "    df[\"pred\"] = df[\"pred\"].apply(lambda x: 1 if x == 1 else 0)\n",
    "\n",
    "    errors_df = df[df[\"is_it_relevant\"] != df[\"pred\"]]\n",
    "\n",
    "    errors_df = errors_df[[\"sentence_number\",\n",
    "        \"sentence_tokens\",\n",
    "        \"token_text\",\n",
    "        \"metaphor\",\n",
    "        \"is_it_relevant\",\n",
    "        \"pred\"]]\n",
    "\n",
    "    print(f\"Number of misclassified metaphor tokens: {len(errors_df)}\")\n",
    "    display(errors_df)  \n",
    "\n",
    "    return errors_df\n"
   ]
  },
  {
   "cell_type": "code",
   "execution_count": null,
   "id": "9b0d7ffc-a911-4465-b72d-7dca930b6d29",
   "metadata": {},
   "outputs": [],
   "source": [
    "errors = show_misclassified_tokens(\"anno_baseline_predictions.tsv\")"
   ]
  },
  {
   "cell_type": "code",
   "execution_count": null,
   "id": "296c5d72-66c5-479f-83fa-d172dda421b6",
   "metadata": {},
   "outputs": [],
   "source": [
    "test_errors = show_misclassified_tokens(\"test_baseline_predictions.tsv\")"
   ]
  },
  {
   "cell_type": "code",
   "execution_count": 77,
   "id": "8084b39a-95fa-43ba-bc9b-78046b3428e6",
   "metadata": {},
   "outputs": [],
   "source": [
    "\n",
    "def show_misclassified_tokens(tsv_file):\n",
    "    columns = [\n",
    "        \"sentence_number\",\n",
    "        \"sentence_tokens\",\n",
    "        \"token_text\",  \n",
    "        \"metaphor\",\n",
    "        \"is_it_relevant\",\n",
    "        \"text_id\",\n",
    "        \"pred\"\n",
    "    ]\n",
    "\n",
    "    df = pd.read_csv(tsv_file, sep=\"\\t\", header=0, names=columns)\n",
    "\n",
    "    df[\"is_it_relevant\"] = df[\"is_it_relevant\"].apply(lambda x: 1 if x == 1 else 0)\n",
    "    df[\"pred\"] = df[\"pred\"].apply(lambda x: 1 if x == 1 else 0)\n",
    "\n",
    "    df[\"token_text\"] = df[\"token_text\"].astype(int)\n",
    "\n",
    "    df[\"tokens_list\"] = df[\"sentence_tokens\"].apply(lambda s: s.split())\n",
    "\n",
    "    misclassified = df[df[\"is_it_relevant\"] != df[\"pred\"]].copy()\n",
    "\n",
    "    misclassified[\"token_str\"] = misclassified.apply(\n",
    "        lambda row: row[\"tokens_list\"][row[\"token_text\"]]\n",
    "        if row[\"token_text\"] < len(row[\"tokens_list\"])\n",
    "        else \"[INDEX_ERR]\",\n",
    "        axis=1\n",
    "    )\n",
    "\n",
    "    fp_rows = misclassified[\n",
    "        (misclassified[\"is_it_relevant\"] == 0) & (misclassified[\"pred\"] == 1)\n",
    "    ]\n",
    "    fn_rows = misclassified[\n",
    "        (misclassified[\"is_it_relevant\"] == 1) & (misclassified[\"pred\"] == 0)\n",
    "    ]\n",
    "\n",
    "    fp_tokens = fp_rows[\"token_str\"].tolist()\n",
    "    fn_tokens = fn_rows[\"token_str\"].tolist()\n",
    "\n",
    "    print(f\"Number of misclassified metaphor tokens: {len(misclassified)}\")\n",
    "    print(f\"\\nFalse Positives ({len(fp_tokens)}):\")\n",
    "    for _, row in fp_rows.iterrows():\n",
    "        print(f'[FP] Token: \"{row[\"token_str\"]}\" | Sentence: {\" \".join(row[\"tokens_list\"])}\\n')\n",
    "\n",
    "    print(f\"\\nFalse Negatives ({len(fn_tokens)}):\")\n",
    "    for _, row in fn_rows.iterrows():\n",
    "        print(f'[FN] Token: \"{row[\"token_str\"]}\" | Sentence: {\" \".join(row[\"tokens_list\"])}\\n')\n",
    "\n",
    "    return fp_tokens, fn_tokens\n"
   ]
  },
  {
   "cell_type": "code",
   "execution_count": null,
   "id": "03426384-2797-4279-92e1-faad57640665",
   "metadata": {},
   "outputs": [],
   "source": [
    "anno_fp, anno_fn = show_misclassified_tokens(\"anno_baseline_predictions.tsv\")"
   ]
  },
  {
   "cell_type": "code",
   "execution_count": null,
   "id": "5a1edda8-0f1c-47f5-be16-3bea0ae680ec",
   "metadata": {},
   "outputs": [],
   "source": [
    "print(anno_fp, '\\n', anno_fn)"
   ]
  },
  {
   "cell_type": "code",
   "execution_count": null,
   "id": "edb89929-bbbe-41a4-9180-efe8e09ee841",
   "metadata": {},
   "outputs": [],
   "source": [
    "test_fp, test_fn = show_misclassified_tokens(\"test_baseline_predictions.tsv\")"
   ]
  },
  {
   "cell_type": "code",
   "execution_count": null,
   "id": "6abf2618-fce1-476e-883e-4db5a37c0d92",
   "metadata": {},
   "outputs": [],
   "source": [
    "print(test_fp)\n",
    "print(test_fn)"
   ]
  }
 ],
 "metadata": {
  "kernelspec": {
   "display_name": "Python [conda env:base] *",
   "language": "python",
   "name": "conda-base-py"
  },
  "language_info": {
   "codemirror_mode": {
    "name": "ipython",
    "version": 3
   },
   "file_extension": ".py",
   "mimetype": "text/x-python",
   "name": "python",
   "nbconvert_exporter": "python",
   "pygments_lexer": "ipython3",
   "version": "3.12.7"
  }
 },
 "nbformat": 4,
 "nbformat_minor": 5
}
