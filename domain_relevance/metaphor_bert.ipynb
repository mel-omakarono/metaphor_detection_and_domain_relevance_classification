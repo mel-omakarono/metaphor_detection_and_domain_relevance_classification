{
 "cells": [
  {
   "cell_type": "markdown",
   "id": "1598ef06-dddb-4421-ba43-acea90ce5482",
   "metadata": {},
   "source": [
    "# BERT for Domain Relevance Classification"
   ]
  },
  {
   "cell_type": "markdown",
   "id": "c3912614-4e8d-4b0c-90ee-38ba6e94a2b9",
   "metadata": {},
   "source": [
    "`Melina Paxinou`\n",
    "\n",
    "MA Linguistics, Text Mining - Vrije Universiteit Amsterdam\n",
    "\n",
    "June 27, 2025"
   ]
  },
  {
   "cell_type": "markdown",
   "id": "96d51f0d-9357-46b9-be06-631364a131ff",
   "metadata": {},
   "source": [
    "`Melina Paxinou    2854344`"
   ]
  },
  {
   "cell_type": "markdown",
   "id": "31141515-7d9a-4f51-996e-9e802ca64291",
   "metadata": {},
   "source": [
    "## Imports and paths"
   ]
  },
  {
   "cell_type": "code",
   "execution_count": 365,
   "id": "9fff118b-162b-4153-ba05-855e57497bb1",
   "metadata": {
    "id": "IreSlFmlIrIm"
   },
   "outputs": [],
   "source": [
    "from collections import Counter\n",
    "from datasets import load_dataset\n",
    "from evaluate import load\n",
    "import pandas as pd\n",
    "from datasets import Dataset\n",
    "import numpy as np\n",
    "from transformers import DataCollatorForTokenClassification\n",
    "from transformers import set_seed\n",
    "from transformers import AutoModelForTokenClassification, TrainingArguments, Trainer\n",
    "import transformers\n",
    "from transformers import AutoTokenizer\n",
    "import matplotlib.pyplot as plt\n",
    "from sklearn.metrics import classification_report, confusion_matrix, ConfusionMatrixDisplay\n",
    "import pickle\n",
    "import torch\n",
    "from torch.utils.data import DataLoader, RandomSampler, SequentialSampler\n",
    "from torch.utils.data import TensorDataset\n",
    "from sklearn.metrics import precision_recall_fscore_support, accuracy_score\n",
    "import ast"
   ]
  },
  {
   "cell_type": "code",
   "execution_count": 367,
   "id": "ebc85317-3f67-4b5c-84de-457390038b0c",
   "metadata": {},
   "outputs": [
    {
     "name": "stdout",
     "output_type": "stream",
     "text": [
      "Connected to GPU: NVIDIA GeForce RTX 4070 Laptop GPU\n"
     ]
    }
   ],
   "source": [
    "# connect to GPU\n",
    "device = torch.device('cuda')\n",
    "\n",
    "print('Connected to GPU:', torch.cuda.get_device_name(0))"
   ]
  },
  {
   "cell_type": "code",
   "execution_count": 520,
   "id": "5455c163-6590-4821-9782-3b9b7356480d",
   "metadata": {},
   "outputs": [],
   "source": [
    "train_file = '../baseline/train_sentences.tsv'\n",
    "dev_file = '../baseline/dev_sentences.tsv'\n",
    "test_file = '../baseline/test_sentences.tsv'\n",
    "anno_file = '../baseline/anno_sentences.tsv'"
   ]
  },
  {
   "cell_type": "code",
   "execution_count": 522,
   "id": "4c2253a4-675f-47be-9b6e-ae0714a780ed",
   "metadata": {},
   "outputs": [],
   "source": [
    "train = pd.read_csv(train_file, sep=\"\\t\", header=0)\n",
    "dev = pd.read_csv(dev_file, sep=\"\\t\", header=0)\n",
    "test = pd.read_csv(test_file, sep=\"\\t\", header=0)\n",
    "anno = pd.read_csv(anno_file, sep=\"\\t\", header=0)"
   ]
  },
  {
   "cell_type": "code",
   "execution_count": 524,
   "id": "62fe2f4a-d071-4bfb-aad8-2efe261a2024",
   "metadata": {},
   "outputs": [
    {
     "data": {
      "text/html": [
       "<div>\n",
       "<style scoped>\n",
       "    .dataframe tbody tr th:only-of-type {\n",
       "        vertical-align: middle;\n",
       "    }\n",
       "\n",
       "    .dataframe tbody tr th {\n",
       "        vertical-align: top;\n",
       "    }\n",
       "\n",
       "    .dataframe thead th {\n",
       "        text-align: right;\n",
       "    }\n",
       "</style>\n",
       "<table border=\"1\" class=\"dataframe\">\n",
       "  <thead>\n",
       "    <tr style=\"text-align: right;\">\n",
       "      <th></th>\n",
       "      <th>sentence_number</th>\n",
       "      <th>sentence_tokens</th>\n",
       "      <th>target_token_index</th>\n",
       "      <th>is_metaphor</th>\n",
       "      <th>is_it_relevant</th>\n",
       "      <th>text_id</th>\n",
       "    </tr>\n",
       "  </thead>\n",
       "  <tbody>\n",
       "    <tr>\n",
       "      <th>0</th>\n",
       "      <td>1</td>\n",
       "      <td>['Epithelial', 'cells', '(', 'ECs', ')', 'at',...</td>\n",
       "      <td>21</td>\n",
       "      <td>1</td>\n",
       "      <td>1</td>\n",
       "      <td>3</td>\n",
       "    </tr>\n",
       "    <tr>\n",
       "      <th>1</th>\n",
       "      <td>1</td>\n",
       "      <td>['Page', '4', 'of', '4', 'Mrs', 'Brown', 'said...</td>\n",
       "      <td>17</td>\n",
       "      <td>1</td>\n",
       "      <td>1</td>\n",
       "      <td>5</td>\n",
       "    </tr>\n",
       "    <tr>\n",
       "      <th>2</th>\n",
       "      <td>1</td>\n",
       "      <td>['Following', 'administration', 'of', 'the', \"...</td>\n",
       "      <td>5</td>\n",
       "      <td>1</td>\n",
       "      <td>1</td>\n",
       "      <td>7</td>\n",
       "    </tr>\n",
       "    <tr>\n",
       "      <th>3</th>\n",
       "      <td>1</td>\n",
       "      <td>['Anti', '-', 'GD2', 'CAR', 'NKT', 'cells', 'a...</td>\n",
       "      <td>46</td>\n",
       "      <td>1</td>\n",
       "      <td>1</td>\n",
       "      <td>8</td>\n",
       "    </tr>\n",
       "    <tr>\n",
       "      <th>4</th>\n",
       "      <td>1</td>\n",
       "      <td>['Most', 'importantly', ',', 'this', 'approach...</td>\n",
       "      <td>23</td>\n",
       "      <td>1</td>\n",
       "      <td>1</td>\n",
       "      <td>9</td>\n",
       "    </tr>\n",
       "  </tbody>\n",
       "</table>\n",
       "</div>"
      ],
      "text/plain": [
       "   sentence_number                                    sentence_tokens  \\\n",
       "0                1  ['Epithelial', 'cells', '(', 'ECs', ')', 'at',...   \n",
       "1                1  ['Page', '4', 'of', '4', 'Mrs', 'Brown', 'said...   \n",
       "2                1  ['Following', 'administration', 'of', 'the', \"...   \n",
       "3                1  ['Anti', '-', 'GD2', 'CAR', 'NKT', 'cells', 'a...   \n",
       "4                1  ['Most', 'importantly', ',', 'this', 'approach...   \n",
       "\n",
       "   target_token_index  is_metaphor  is_it_relevant text_id  \n",
       "0                  21            1               1       3  \n",
       "1                  17            1               1       5  \n",
       "2                   5            1               1       7  \n",
       "3                  46            1               1       8  \n",
       "4                  23            1               1       9  "
      ]
     },
     "execution_count": 524,
     "metadata": {},
     "output_type": "execute_result"
    }
   ],
   "source": [
    "train.head()"
   ]
  },
  {
   "cell_type": "markdown",
   "id": "9f79b327-6227-4617-9123-8d055600f9e5",
   "metadata": {},
   "source": [
    "## Statistics"
   ]
  },
  {
   "cell_type": "code",
   "execution_count": 527,
   "id": "7174a598-cec9-4988-886a-fa8e86af2f98",
   "metadata": {},
   "outputs": [],
   "source": [
    "def compute_statistics(df):\n",
    "    sentence_col = 'sentence_number' if 'sentence_number' in df.columns else 'sentence_id'\n",
    "\n",
    "    total_metaphors = len(df)\n",
    "\n",
    "    relevant_metaphors = int(df['is_it_relevant'].sum())\n",
    "        \n",
    "    if 'text_id' in df.columns:\n",
    "        total_sentences = df[['text_id', sentence_col]].drop_duplicates().shape[0]\n",
    "    else:\n",
    "        total_sentences = df[[sentence_col]].drop_duplicates().shape[0]\n",
    "    \n",
    "    print(f\"Total metaphors: {total_metaphors}\")\n",
    "    print(f\"Total relevant metaphors: {relevant_metaphors}\")\n",
    "    print(f\"Total sentences: {total_sentences}\")\n"
   ]
  },
  {
   "cell_type": "code",
   "execution_count": 528,
   "id": "9a3e6918-63b5-4a9b-bec8-143f63e12c9c",
   "metadata": {},
   "outputs": [
    {
     "name": "stdout",
     "output_type": "stream",
     "text": [
      "Total metaphors: 536\n",
      "Total relevant metaphors: 311\n",
      "Total sentences: 453\n"
     ]
    }
   ],
   "source": [
    "compute_statistics(train)"
   ]
  },
  {
   "cell_type": "code",
   "execution_count": 529,
   "id": "fe3631df-53c0-4e37-8b4a-6feae9430917",
   "metadata": {},
   "outputs": [
    {
     "name": "stdout",
     "output_type": "stream",
     "text": [
      "Total metaphors: 226\n",
      "Total relevant metaphors: 97\n",
      "Total sentences: 161\n"
     ]
    }
   ],
   "source": [
    "compute_statistics(dev)"
   ]
  },
  {
   "cell_type": "code",
   "execution_count": 530,
   "id": "dc391537-e29e-41d9-9a09-c09e8902ed0d",
   "metadata": {},
   "outputs": [
    {
     "name": "stdout",
     "output_type": "stream",
     "text": [
      "Total metaphors: 293\n",
      "Total relevant metaphors: 112\n",
      "Total sentences: 206\n"
     ]
    }
   ],
   "source": [
    "compute_statistics(test)"
   ]
  },
  {
   "cell_type": "code",
   "execution_count": 531,
   "id": "c8f651c4-78db-4b32-bd5f-ef80176618d0",
   "metadata": {},
   "outputs": [
    {
     "name": "stdout",
     "output_type": "stream",
     "text": [
      "Total metaphors: 50\n",
      "Total relevant metaphors: 14\n",
      "Total sentences: 22\n"
     ]
    }
   ],
   "source": [
    "compute_statistics(anno)"
   ]
  },
  {
   "cell_type": "markdown",
   "id": "91da6bfe-acf8-428b-9787-72f19f322107",
   "metadata": {},
   "source": [
    "## Loading the dataset"
   ]
  },
  {
   "cell_type": "code",
   "execution_count": 537,
   "id": "0117deb0-8b54-40f2-8f09-4b5a59eabe5b",
   "metadata": {
    "id": "zVvslsfMIrIh"
   },
   "outputs": [],
   "source": [
    "task = \"relevant_metaphor_detection\"\n",
    "model_checkpoint = \"bert-base-uncased\"\n",
    "batch_size = 16"
   ]
  },
  {
   "cell_type": "code",
   "execution_count": 539,
   "id": "610ca503-63b3-4e59-8c62-28cd4f3cf4a8",
   "metadata": {},
   "outputs": [],
   "source": [
    "# creating dataframes for train, dev, and test files\n",
    "\n",
    "# defining column names for easier access to elements\n",
    "column_names = [\n",
    " 'sentence_number',\t'sentence_tokens',\t'target_token_index',\t'is_metaphor',\t'is_it_relevant',\n",
    "    'text_id'\n",
    "    ]\n",
    "\n",
    "anno_column_names = [\n",
    "        # \"text_id\",\n",
    "        \"sentence_number\",\n",
    "        'sentence_tokens',\n",
    "        'target_token_index',\n",
    "    'is_metaphor',\n",
    "        \"is_it_relevant\",\n",
    "    \"text_id\"\n",
    "    ]\n",
    "\n",
    "\n",
    "\n",
    "dev_df = pd.read_csv(\n",
    "        dev_file,\n",
    "        sep=\"\\t\",\n",
    "        names=column_names,\n",
    "        encoding=\"utf-8\",\n",
    "        header=0,\n",
    "        na_filter=False, \n",
    "    )\n",
    "\n",
    "train_df = pd.read_csv(\n",
    "        train_file,\n",
    "        sep=\"\\t\",\n",
    "        names=column_names,\n",
    "        encoding=\"utf-8\",\n",
    "        header=0,\n",
    "        na_filter=False,\n",
    "    )\n",
    "\n",
    "test_df = pd.read_csv(\n",
    "        test_file,\n",
    "        sep=\"\\t\",\n",
    "        names=column_names,\n",
    "        encoding=\"utf-8\",\n",
    "        header=0,\n",
    "        na_filter=False,\n",
    "    )\n",
    "\n",
    "anno_df = pd.read_csv(\n",
    "        anno_file,\n",
    "        sep=\"\\t\",\n",
    "        names=anno_column_names,\n",
    "        encoding=\"utf-8\",\n",
    "        header=0,\n",
    "        # na_filter=False,\n",
    "    )"
   ]
  },
  {
   "cell_type": "code",
   "execution_count": null,
   "id": "b9c762dc-2e6b-44a3-a4fb-45d564d7db60",
   "metadata": {},
   "outputs": [],
   "source": [
    "anno_df"
   ]
  },
  {
   "cell_type": "markdown",
   "id": "60ac44d9-6d05-4df0-b9b8-e7d0bd2d829c",
   "metadata": {},
   "source": [
    "## Preprocessing"
   ]
  },
  {
   "cell_type": "code",
   "execution_count": 544,
   "id": "c67d787c-2314-401e-9486-122f26fe8cdf",
   "metadata": {},
   "outputs": [],
   "source": [
    "import ast\n",
    "import math\n",
    "\n",
    "def clean_tokens(tokens_input):\n",
    "    if not isinstance(tokens_input, str):\n",
    "        tokens_input = str(tokens_input)\n",
    "\n",
    "    try:\n",
    "        tokens = ast.literal_eval(tokens_input)\n",
    "        if not isinstance(tokens, list):\n",
    "            tokens = [tokens]\n",
    "    except Exception:\n",
    "        tokens = tokens_input.split()\n",
    "\n",
    "    cleaned_tokens = []\n",
    "    for t in tokens:\n",
    "        if isinstance(t, str):\n",
    "            t_clean = t.strip(\"',\\\" \")\n",
    "            if t_clean.lower() == 'nan' or t_clean.lower() == '':\n",
    "                cleaned_tokens.append('[empty]')\n",
    "            else:\n",
    "                cleaned_tokens.append(t_clean)\n",
    "        elif isinstance(t, float) and math.isnan(t):\n",
    "            cleaned_tokens.append('[empty]')\n",
    "        else:\n",
    "            cleaned_tokens.append(str(t))\n",
    "\n",
    "    return cleaned_tokens\n",
    "\n",
    "\n",
    "def convert_df(df):\n",
    "    examples = []\n",
    "\n",
    "    for i, row in df.iterrows():\n",
    "        if 'text_id' in df.columns and pd.notna(row.get('text_id')):\n",
    "            sentence_id = f\"{row['text_id']}_{row['sentence_number']}\"\n",
    "        else:\n",
    "            sentence_id = str(row['sentence_number'])\n",
    "\n",
    "        tokens = clean_tokens(row['sentence_tokens'])\n",
    "\n",
    "        try:\n",
    "            idx = int(row['target_token_index'])\n",
    "            label = row['is_it_relevant']\n",
    "        except Exception as e:\n",
    "            raise ValueError(f\"Row {i} has invalid index/label: {e}\")\n",
    "\n",
    "        labels = [-100] * len(tokens)\n",
    "        if 0 <= idx < len(tokens):\n",
    "            labels[idx] = label\n",
    "            target_idx = idx\n",
    "        else:\n",
    "            target_idx = None\n",
    "\n",
    "        examples.append({\n",
    "            \"id\": sentence_id,\n",
    "            \"tokens\": tokens,\n",
    "            \"labels\": labels,\n",
    "            \"target_idx\": target_idx,\n",
    "        })\n",
    "\n",
    "    return examples\n"
   ]
  },
  {
   "cell_type": "code",
   "execution_count": 545,
   "id": "3496571e-fc00-4d30-9e15-f6ced07ac943",
   "metadata": {},
   "outputs": [],
   "source": [
    "dev_data = convert_df(dev_df)\n",
    "train_data = convert_df(train_df)\n",
    "test_data = convert_df(test_df)\n",
    "anno_data = convert_df(anno_df)"
   ]
  },
  {
   "cell_type": "code",
   "execution_count": null,
   "id": "7c34e53f-e83c-4cd6-94f9-9fec338358dd",
   "metadata": {},
   "outputs": [],
   "source": [
    "print(anno_data[1])"
   ]
  },
  {
   "cell_type": "code",
   "execution_count": 550,
   "id": "4b9fe3d7-c6b9-4aab-9cf9-e0e2b5250809",
   "metadata": {},
   "outputs": [],
   "source": [
    "tokenizer = AutoTokenizer.from_pretrained(model_checkpoint)"
   ]
  },
  {
   "cell_type": "code",
   "execution_count": 554,
   "id": "2e93a34b-667a-402c-97b4-920f7f4a16f0",
   "metadata": {
    "scrolled": true
   },
   "outputs": [],
   "source": [
    "def tokenized_input_token_level(data, tokenizer, max_length=128):\n",
    "    final_data = []\n",
    "\n",
    "    for example in data:\n",
    "        tokens = example[\"tokens\"]\n",
    "        labels = example[\"labels\"]\n",
    "\n",
    "        tokenized = tokenizer(\n",
    "            tokens,\n",
    "            is_split_into_words=True,\n",
    "            padding=\"max_length\",\n",
    "            truncation=True,\n",
    "            max_length=max_length,\n",
    "            return_tensors=None,\n",
    "        )\n",
    "\n",
    "        word_ids = tokenized.word_ids()\n",
    "\n",
    "        aligned_labels = []\n",
    "        for word_idx in word_ids:\n",
    "            if word_idx is None:\n",
    "                aligned_labels.append(-100)  \n",
    "            else:\n",
    "                aligned_labels.append(labels[word_idx])\n",
    "\n",
    "        tokenized_tokens = tokenizer.convert_ids_to_tokens(tokenized[\"input_ids\"])\n",
    "\n",
    "        final_data.append({\n",
    "            \"input_ids\": tokenized[\"input_ids\"],\n",
    "            \"attention_mask\": tokenized[\"attention_mask\"],\n",
    "            \"labels\": aligned_labels,\n",
    "            \"word_ids\": word_ids,\n",
    "            \"tokenized_tokens\": tokenized_tokens,  \n",
    "        })\n",
    "\n",
    "    return final_data\n"
   ]
  },
  {
   "cell_type": "code",
   "execution_count": 556,
   "id": "73478131-3845-4986-9cd6-eb5a97a4655b",
   "metadata": {},
   "outputs": [],
   "source": [
    "train_tok = tokenized_input_token_level(train_data, tokenizer)\n",
    "dev_tok = tokenized_input_token_level(dev_data, tokenizer)\n",
    "test_tok = tokenized_input_token_level(test_data, tokenizer)\n",
    "anno_tok = tokenized_input_token_level(anno_data, tokenizer)"
   ]
  },
  {
   "cell_type": "code",
   "execution_count": null,
   "id": "e60007f1-bff5-4447-8c42-3d19d3980ee8",
   "metadata": {},
   "outputs": [],
   "source": [
    "print(anno_tok[6])"
   ]
  },
  {
   "cell_type": "code",
   "execution_count": 560,
   "id": "edbf2623-49b9-4e77-b2d6-5775a7aa4aa9",
   "metadata": {
    "scrolled": true
   },
   "outputs": [],
   "source": [
    "def preprocess_example(example):\n",
    "    \"\"\"\n",
    "    Takes as input a dictionary containing information of a training sentence and extracts the \n",
    "    necessary keys required for training. It ensures that only the relevant keys \n",
    "    (input_ids, attention_mask, and labels) are returned.\n",
    "\n",
    "    Parameters:\n",
    "    example (dictionary): A dictionary that contains the following keys:\n",
    "    - 'input_ids': list of token IDs\n",
    "    - 'attention_mask': mask for model\n",
    "    - 'labels': labels for each token in the sequence\n",
    "\n",
    "    Returns:\n",
    "    A dictionary with only the following keys:\n",
    "    - 'input_ids'\n",
    "    - 'attention_mask'\n",
    "    - 'labels'\n",
    "    \"\"\"\n",
    "    return {\n",
    "        \"input_ids\": example[\"input_ids\"],\n",
    "        \"attention_mask\": example[\"attention_mask\"],\n",
    "        \"labels\": example[\"labels\"]\n",
    "    }"
   ]
  },
  {
   "cell_type": "code",
   "execution_count": 561,
   "id": "32af8b97-c146-4caf-9029-88bb7c8da79b",
   "metadata": {},
   "outputs": [],
   "source": [
    "# preprocessing the dataset\n",
    "processed_train = [preprocess_example(example) for example in train_tok]\n",
    "processed_dev = [preprocess_example(example) for example in dev_tok]\n",
    "processed_test = [preprocess_example(example) for example in test_tok]\n",
    "processed_anno = [preprocess_example(example) for example in anno_tok]"
   ]
  },
  {
   "cell_type": "code",
   "execution_count": 564,
   "id": "e17754ed-c4e1-4152-b8c0-94098828eb19",
   "metadata": {},
   "outputs": [
    {
     "name": "stdout",
     "output_type": "stream",
     "text": [
      "{'input_ids': [101, 2070, 6048, 2031, 2988, 4659, 2235, 16054, 1011, 29464, 2015, 1997, 9587, 7875, 2557, 5714, 23041, 14573, 6906, 7685, 2004, 18340, 3949, 2005, 5022, 2007, 3935, 1051, 10755, 2937, 4456, 2040, 2031, 3478, 7511, 3949, 1012, 102, 0, 0, 0, 0, 0, 0, 0, 0, 0, 0, 0, 0, 0, 0, 0, 0, 0, 0, 0, 0, 0, 0, 0, 0, 0, 0, 0, 0, 0, 0, 0, 0, 0, 0, 0, 0, 0, 0, 0, 0, 0, 0, 0, 0, 0, 0, 0, 0, 0, 0, 0, 0, 0, 0, 0, 0, 0, 0, 0, 0, 0, 0, 0, 0, 0, 0, 0, 0, 0, 0, 0, 0, 0, 0, 0, 0, 0, 0, 0, 0, 0, 0, 0, 0, 0, 0, 0, 0, 0, 0], 'attention_mask': [1, 1, 1, 1, 1, 1, 1, 1, 1, 1, 1, 1, 1, 1, 1, 1, 1, 1, 1, 1, 1, 1, 1, 1, 1, 1, 1, 1, 1, 1, 1, 1, 1, 1, 1, 1, 1, 1, 0, 0, 0, 0, 0, 0, 0, 0, 0, 0, 0, 0, 0, 0, 0, 0, 0, 0, 0, 0, 0, 0, 0, 0, 0, 0, 0, 0, 0, 0, 0, 0, 0, 0, 0, 0, 0, 0, 0, 0, 0, 0, 0, 0, 0, 0, 0, 0, 0, 0, 0, 0, 0, 0, 0, 0, 0, 0, 0, 0, 0, 0, 0, 0, 0, 0, 0, 0, 0, 0, 0, 0, 0, 0, 0, 0, 0, 0, 0, 0, 0, 0, 0, 0, 0, 0, 0, 0, 0, 0], 'labels': [-100, -100, -100, -100, -100, -100, -100, -100, -100, -100, -100, -100, -100, -100, -100, -100, -100, -100, -100, -100, -100, 1, -100, -100, -100, -100, -100, -100, -100, -100, -100, -100, -100, -100, -100, -100, -100, -100, -100, -100, -100, -100, -100, -100, -100, -100, -100, -100, -100, -100, -100, -100, -100, -100, -100, -100, -100, -100, -100, -100, -100, -100, -100, -100, -100, -100, -100, -100, -100, -100, -100, -100, -100, -100, -100, -100, -100, -100, -100, -100, -100, -100, -100, -100, -100, -100, -100, -100, -100, -100, -100, -100, -100, -100, -100, -100, -100, -100, -100, -100, -100, -100, -100, -100, -100, -100, -100, -100, -100, -100, -100, -100, -100, -100, -100, -100, -100, -100, -100, -100, -100, -100, -100, -100, -100, -100, -100, -100]}\n"
     ]
    }
   ],
   "source": [
    "print(processed_test[6])"
   ]
  },
  {
   "cell_type": "markdown",
   "id": "e280a7ca-cfd8-45c4-b014-651765b9e2ef",
   "metadata": {
    "id": "545PP3o8IrJV"
   },
   "source": [
    "## Fine-tuning the model"
   ]
  },
  {
   "cell_type": "code",
   "execution_count": 566,
   "id": "bcc40f43-248d-4976-8550-bf6d0b47be2e",
   "metadata": {
    "colab": {
     "base_uri": "https://localhost:8080/",
     "height": 85,
     "referenced_widgets": [
      "6d55c83b8b914aa88e1ce4f767a89917",
      "56cadd26245e4a3c909a665f80b04611",
      "623a98fafb894a31b9f7e6ea436da09d",
      "5de0bf631b1c4eddb5c377e9af6285de",
      "bc0cfde945cd43ccade17fd44c38c353",
      "711cf9c2988a4cfa92515480310731ee",
      "23c6fb5d807046b0803182cc9c6dc229",
      "554069d9065a483fafabf13fa1354777",
      "00f8414756364ff0904386ddc62e8ab7",
      "1e70d6912b7a4350a1cc8f479f717e98",
      "1b9e96610f664d508b28b06e2f658f65"
     ]
    },
    "id": "TlqNaB8jIrJW",
    "outputId": "fa1aaa2d-3e59-4ba5-9799-47aaa4fb0ba5"
   },
   "outputs": [
    {
     "name": "stderr",
     "output_type": "stream",
     "text": [
      "Some weights of BertForTokenClassification were not initialized from the model checkpoint at bert-base-uncased and are newly initialized: ['classifier.bias', 'classifier.weight']\n",
      "You should probably TRAIN this model on a down-stream task to be able to use it for predictions and inference.\n"
     ]
    },
    {
     "data": {
      "text/plain": [
       "Embedding(30522, 768, padding_idx=0)"
      ]
     },
     "execution_count": 566,
     "metadata": {},
     "output_type": "execute_result"
    }
   ],
   "source": [
    "model = AutoModelForTokenClassification.from_pretrained(model_checkpoint, num_labels=2) \n",
    "model.resize_token_embeddings(len(tokenizer))"
   ]
  },
  {
   "cell_type": "code",
   "execution_count": 671,
   "id": "3da87b40-a5dc-4651-b7d6-b8f75bd692c4",
   "metadata": {
    "id": "Bliy8zgjIrJY"
   },
   "outputs": [],
   "source": [
    "SEED = 127\n",
    "set_seed(SEED)\n",
    "\n",
    "model_name = model_checkpoint\n",
    "args = TrainingArguments(\n",
    "    f\"{model_name}-finetuned-{task}\",    \n",
    "    eval_strategy = \"epoch\",    \n",
    "    learning_rate=2e-5,    \n",
    "    per_device_train_batch_size=batch_size,   \n",
    "    per_device_eval_batch_size=batch_size,    \n",
    "    num_train_epochs=8,    \n",
    "    weight_decay=0.01,    \n",
    "    seed=SEED,    \n",
    "    report_to=None,    \n",
    "    logging_dir='./logs',          \n",
    "    logging_steps=10,    \n",
    ")"
   ]
  },
  {
   "cell_type": "code",
   "execution_count": 673,
   "id": "f8f1f281-9ad2-44da-b469-b4d47ab22a92",
   "metadata": {
    "id": "16HZ2oCMabdi"
   },
   "outputs": [],
   "source": [
    "max_len = max(\n",
    "    max(len(sent['input_ids']) for sent in processed_train),\n",
    "    max(len(sent['input_ids']) for sent in processed_dev),\n",
    "    max(len(sent['input_ids']) for sent in processed_test),\n",
    "    max(len(sent['input_ids']) for sent in processed_anno)\n",
    ")\n",
    "\n",
    "data_collator = DataCollatorForTokenClassification(\n",
    "    tokenizer=tokenizer,      \n",
    "    padding='max_length',     \n",
    "    max_length=max_len        \n",
    ")\n"
   ]
  },
  {
   "cell_type": "code",
   "execution_count": 675,
   "id": "fcf4b62a-8d43-4899-a5e9-cb6e43701e17",
   "metadata": {
    "colab": {
     "base_uri": "https://localhost:8080/",
     "height": 49,
     "referenced_widgets": [
      "6b641a7b761d4441a512e6a123b7b1da",
      "9bbd71548a0742619af880dd2e12d53d",
      "b98a50c41c204391944a4a6a1ab8a009",
      "3368f0ae8f6140328ed5b7f9533a40c7",
      "be212c97c9024812a47bd3c08c54ec6a",
      "3ae3cfe031da4af496ad561d5a298553",
      "c1c40fb068f54cebbb3155c2ab2c7ccd",
      "d4925754502c4cf1a6ff0d55fa977cd0",
      "481d862da3de4e8a97d07c938c6678a2",
      "865e4bf0754b4f85b813e5179d52c79e",
      "41b5a90a9aed40b18764599d0de0f41d"
     ]
    },
    "id": "s1TNz926abdi",
    "outputId": "653d3dd0-5649-4d31-a189-f6f059381b92"
   },
   "outputs": [],
   "source": [
    "metric = load(\"seqeval\")"
   ]
  },
  {
   "cell_type": "code",
   "execution_count": 676,
   "id": "4edef668-0713-4f65-b45b-7445d9fc79cf",
   "metadata": {
    "id": "UmvbnJ9JIrJd"
   },
   "outputs": [],
   "source": [
    "def compute_metrics(p):\n",
    "    preds = np.argmax(p.predictions, axis=2)  \n",
    "    labels = p.label_ids  \n",
    "    \n",
    "    preds_flat = preds.flatten()\n",
    "    labels_flat = labels.flatten()\n",
    "    \n",
    "    mask = labels_flat != -100\n",
    "    preds_clean = preds_flat[mask]\n",
    "    labels_clean = labels_flat[mask]\n",
    "\n",
    "    precision, recall, f1, _ = precision_recall_fscore_support(labels_clean, preds_clean, average='binary')\n",
    "    acc = accuracy_score(labels_clean, preds_clean)\n",
    "    return {\"accuracy\": acc, \"precision\": precision, \"recall\": recall, \"f1\": f1}\n"
   ]
  },
  {
   "cell_type": "code",
   "execution_count": 678,
   "id": "630e28d9-c5ea-4670-972f-4f6ea527d770",
   "metadata": {},
   "outputs": [],
   "source": [
    "def make_dataset(processed_doc):\n",
    "    \"\"\"\n",
    "    Takes as input a processed document (list of dictionaries) and creates a dataset\n",
    "    suitable for BERT training. It extracts the input IDs, attention masks, and labels from \n",
    "    each example in the processed list of dictionaries and organizes them into a dataset.\n",
    "\n",
    "    Parameters:\n",
    "    processed_doc (list of dictionaries): A list of dictionaries, where each dictionary contains:\n",
    "    - 'input_ids': list of token IDs\n",
    "    - 'attention_mask': attention mask for the model\n",
    "    - 'labels': list of labels corresponding to each token \n",
    "\n",
    "    Returns:\n",
    "    A dataset made with the datasets library containing:\n",
    "    - 'input_ids'\n",
    "    - 'attention_mask'\n",
    "    - 'labels'\n",
    "    \"\"\"\n",
    "    \n",
    "    final_dataset = Dataset.from_dict({\n",
    "        'input_ids': [example['input_ids'] for example in processed_doc],\n",
    "        'attention_mask': [example['attention_mask'] for example in processed_doc],\n",
    "        'labels': [example['labels'] for example in processed_doc]\n",
    "    })\n",
    "    return final_dataset\n",
    "\n",
    "label_list = ['IRRELEVANT (0)' , 'RELEVANT (1)']\n",
    "\n",
    "train_dataset = make_dataset(processed_train)\n",
    "dev_dataset = make_dataset(processed_dev)\n",
    "test_dataset = make_dataset(processed_test)\n",
    "anno_dataset = make_dataset(processed_anno)"
   ]
  },
  {
   "cell_type": "code",
   "execution_count": 679,
   "id": "6ca36ace-4ae1-4081-8c00-dbe42061c574",
   "metadata": {},
   "outputs": [
    {
     "name": "stdout",
     "output_type": "stream",
     "text": [
      "{'input_ids': [101, 18540, 2475, 1031, 4064, 1033, 11311, 2291, 2573, 2004, 1037, 4721, 8803, 2011, 12151, 28927, 4442, 1998, 8650, 1996, 2303, 2114, 7870, 1012, 102, 0, 0, 0, 0, 0, 0, 0, 0, 0, 0, 0, 0, 0, 0, 0, 0, 0, 0, 0, 0, 0, 0, 0, 0, 0, 0, 0, 0, 0, 0, 0, 0, 0, 0, 0, 0, 0, 0, 0, 0, 0, 0, 0, 0, 0, 0, 0, 0, 0, 0, 0, 0, 0, 0, 0, 0, 0, 0, 0, 0, 0, 0, 0, 0, 0, 0, 0, 0, 0, 0, 0, 0, 0, 0, 0, 0, 0, 0, 0, 0, 0, 0, 0, 0, 0, 0, 0, 0, 0, 0, 0, 0, 0, 0, 0, 0, 0, 0, 0, 0, 0, 0, 0], 'attention_mask': [1, 1, 1, 1, 1, 1, 1, 1, 1, 1, 1, 1, 1, 1, 1, 1, 1, 1, 1, 1, 1, 1, 1, 1, 1, 0, 0, 0, 0, 0, 0, 0, 0, 0, 0, 0, 0, 0, 0, 0, 0, 0, 0, 0, 0, 0, 0, 0, 0, 0, 0, 0, 0, 0, 0, 0, 0, 0, 0, 0, 0, 0, 0, 0, 0, 0, 0, 0, 0, 0, 0, 0, 0, 0, 0, 0, 0, 0, 0, 0, 0, 0, 0, 0, 0, 0, 0, 0, 0, 0, 0, 0, 0, 0, 0, 0, 0, 0, 0, 0, 0, 0, 0, 0, 0, 0, 0, 0, 0, 0, 0, 0, 0, 0, 0, 0, 0, 0, 0, 0, 0, 0, 0, 0, 0, 0, 0, 0], 'labels': [-100, -100, -100, -100, -100, -100, -100, -100, -100, -100, -100, -100, 1, -100, -100, -100, -100, -100, -100, -100, -100, -100, -100, -100, -100, -100, -100, -100, -100, -100, -100, -100, -100, -100, -100, -100, -100, -100, -100, -100, -100, -100, -100, -100, -100, -100, -100, -100, -100, -100, -100, -100, -100, -100, -100, -100, -100, -100, -100, -100, -100, -100, -100, -100, -100, -100, -100, -100, -100, -100, -100, -100, -100, -100, -100, -100, -100, -100, -100, -100, -100, -100, -100, -100, -100, -100, -100, -100, -100, -100, -100, -100, -100, -100, -100, -100, -100, -100, -100, -100, -100, -100, -100, -100, -100, -100, -100, -100, -100, -100, -100, -100, -100, -100, -100, -100, -100, -100, -100, -100, -100, -100, -100, -100, -100, -100, -100, -100]}\n"
     ]
    }
   ],
   "source": [
    "print(test_dataset[0])"
   ]
  },
  {
   "cell_type": "code",
   "execution_count": 682,
   "id": "976dfc43-3c30-4227-8eaf-1bbf0caa1699",
   "metadata": {
    "colab": {
     "base_uri": "https://localhost:8080/"
    },
    "id": "imY1oC3SIrJf",
    "outputId": "0ac68999-9afd-4432-e5e4-54022e0f9e6a"
   },
   "outputs": [
    {
     "name": "stderr",
     "output_type": "stream",
     "text": [
      "C:\\Users\\melou\\AppData\\Local\\Temp\\ipykernel_20516\\2188118681.py:1: FutureWarning: `tokenizer` is deprecated and will be removed in version 5.0.0 for `Trainer.__init__`. Use `processing_class` instead.\n",
      "  trainer = Trainer(\n"
     ]
    }
   ],
   "source": [
    "trainer = Trainer(\n",
    "    model,\n",
    "    args,\n",
    "    train_dataset=train_dataset,    \n",
    "    eval_dataset=dev_dataset,    \n",
    "    data_collator=data_collator,\n",
    "    tokenizer=tokenizer,\n",
    "    compute_metrics=compute_metrics\n",
    ")"
   ]
  },
  {
   "cell_type": "code",
   "execution_count": 683,
   "id": "95d7918c-f20f-470d-9563-78c6cc0d1b4d",
   "metadata": {},
   "outputs": [
    {
     "name": "stdout",
     "output_type": "stream",
     "text": [
      "total    : 8585740288\n",
      "free     : 3150520320\n",
      "used     : 5435219968\n"
     ]
    }
   ],
   "source": [
    "from pynvml import *\n",
    "nvmlInit()\n",
    "h = nvmlDeviceGetHandleByIndex(0)\n",
    "info = nvmlDeviceGetMemoryInfo(h)\n",
    "print(f'total    : {info.total}')\n",
    "print(f'free     : {info.free}')\n",
    "print(f'used     : {info.used}')"
   ]
  },
  {
   "cell_type": "code",
   "execution_count": 686,
   "id": "e7817e15-7a72-453d-8ea1-70d2fea21f76",
   "metadata": {},
   "outputs": [
    {
     "name": "stdout",
     "output_type": "stream",
     "text": [
      "CUDA available: True\n",
      "CUDA device count: 1\n",
      "CUDA current device: 0\n",
      "CUDA device name: NVIDIA GeForce RTX 4070 Laptop GPU\n"
     ]
    }
   ],
   "source": [
    "print(\"CUDA available:\", torch.cuda.is_available())\n",
    "print(\"CUDA device count:\", torch.cuda.device_count())\n",
    "print(\"CUDA current device:\", torch.cuda.current_device())\n",
    "print(\"CUDA device name:\", torch.cuda.get_device_name(torch.cuda.current_device()))"
   ]
  },
  {
   "cell_type": "code",
   "execution_count": 689,
   "id": "5395e662-02aa-4648-8174-f4d26e16b688",
   "metadata": {
    "id": "4tWR58-Dabdj"
   },
   "outputs": [
    {
     "data": {
      "text/html": [
       "\n",
       "    <div>\n",
       "      \n",
       "      <progress value='272' max='272' style='width:300px; height:20px; vertical-align: middle;'></progress>\n",
       "      [272/272 01:02, Epoch 8/8]\n",
       "    </div>\n",
       "    <table border=\"1\" class=\"dataframe\">\n",
       "  <thead>\n",
       " <tr style=\"text-align: left;\">\n",
       "      <th>Epoch</th>\n",
       "      <th>Training Loss</th>\n",
       "      <th>Validation Loss</th>\n",
       "      <th>Accuracy</th>\n",
       "      <th>Precision</th>\n",
       "      <th>Recall</th>\n",
       "      <th>F1</th>\n",
       "    </tr>\n",
       "  </thead>\n",
       "  <tbody>\n",
       "    <tr>\n",
       "      <td>1</td>\n",
       "      <td>0.006100</td>\n",
       "      <td>0.425472</td>\n",
       "      <td>0.937500</td>\n",
       "      <td>0.870229</td>\n",
       "      <td>0.991304</td>\n",
       "      <td>0.926829</td>\n",
       "    </tr>\n",
       "    <tr>\n",
       "      <td>2</td>\n",
       "      <td>0.000300</td>\n",
       "      <td>0.200205</td>\n",
       "      <td>0.951389</td>\n",
       "      <td>0.904000</td>\n",
       "      <td>0.982609</td>\n",
       "      <td>0.941667</td>\n",
       "    </tr>\n",
       "    <tr>\n",
       "      <td>3</td>\n",
       "      <td>0.000000</td>\n",
       "      <td>0.157199</td>\n",
       "      <td>0.965278</td>\n",
       "      <td>0.933884</td>\n",
       "      <td>0.982609</td>\n",
       "      <td>0.957627</td>\n",
       "    </tr>\n",
       "    <tr>\n",
       "      <td>4</td>\n",
       "      <td>0.000000</td>\n",
       "      <td>0.160516</td>\n",
       "      <td>0.965278</td>\n",
       "      <td>0.933884</td>\n",
       "      <td>0.982609</td>\n",
       "      <td>0.957627</td>\n",
       "    </tr>\n",
       "    <tr>\n",
       "      <td>5</td>\n",
       "      <td>0.000000</td>\n",
       "      <td>0.164581</td>\n",
       "      <td>0.965278</td>\n",
       "      <td>0.933884</td>\n",
       "      <td>0.982609</td>\n",
       "      <td>0.957627</td>\n",
       "    </tr>\n",
       "    <tr>\n",
       "      <td>6</td>\n",
       "      <td>0.000000</td>\n",
       "      <td>0.167121</td>\n",
       "      <td>0.965278</td>\n",
       "      <td>0.933884</td>\n",
       "      <td>0.982609</td>\n",
       "      <td>0.957627</td>\n",
       "    </tr>\n",
       "    <tr>\n",
       "      <td>7</td>\n",
       "      <td>0.000000</td>\n",
       "      <td>0.168616</td>\n",
       "      <td>0.965278</td>\n",
       "      <td>0.933884</td>\n",
       "      <td>0.982609</td>\n",
       "      <td>0.957627</td>\n",
       "    </tr>\n",
       "    <tr>\n",
       "      <td>8</td>\n",
       "      <td>0.000000</td>\n",
       "      <td>0.169082</td>\n",
       "      <td>0.965278</td>\n",
       "      <td>0.933884</td>\n",
       "      <td>0.982609</td>\n",
       "      <td>0.957627</td>\n",
       "    </tr>\n",
       "  </tbody>\n",
       "</table><p>"
      ],
      "text/plain": [
       "<IPython.core.display.HTML object>"
      ]
     },
     "metadata": {},
     "output_type": "display_data"
    },
    {
     "data": {
      "text/plain": [
       "TrainOutput(global_step=272, training_loss=0.0004259974053264373, metrics={'train_runtime': 63.0867, 'train_samples_per_second': 67.97, 'train_steps_per_second': 4.312, 'total_flos': 280110123220992.0, 'train_loss': 0.0004259974053264373, 'epoch': 8.0})"
      ]
     },
     "execution_count": 689,
     "metadata": {},
     "output_type": "execute_result"
    }
   ],
   "source": [
    "# training\n",
    "trainer.train()"
   ]
  },
  {
   "cell_type": "code",
   "execution_count": 690,
   "id": "6dcec6eb-a73a-4b62-b633-6390053353b3",
   "metadata": {},
   "outputs": [
    {
     "data": {
      "text/html": [],
      "text/plain": [
       "<IPython.core.display.HTML object>"
      ]
     },
     "metadata": {},
     "output_type": "display_data"
    }
   ],
   "source": [
    "# predicting\n",
    "predictions, labels, _ = trainer.predict(anno_dataset)\n",
    "predictions = np.argmax(predictions, axis=2)"
   ]
  },
  {
   "cell_type": "code",
   "execution_count": 691,
   "id": "81f3e2de-abb9-4bd2-b59e-8906511e0f10",
   "metadata": {},
   "outputs": [
    {
     "data": {
      "text/html": [],
      "text/plain": [
       "<IPython.core.display.HTML object>"
      ]
     },
     "metadata": {},
     "output_type": "display_data"
    }
   ],
   "source": [
    "# predicting on test\n",
    "test_predictions, test_labels, _ = trainer.predict(test_dataset)\n",
    "test_predictions = np.argmax(test_predictions, axis=2)"
   ]
  },
  {
   "cell_type": "markdown",
   "id": "754c20fc-dd7c-4033-92a1-66e1ee884887",
   "metadata": {},
   "source": [
    "## Evaluation"
   ]
  },
  {
   "cell_type": "code",
   "execution_count": 694,
   "id": "5c11dd33-3e13-49d7-a203-407a4d7054c0",
   "metadata": {
    "id": "UOUcBkX8IrJi"
   },
   "outputs": [
    {
     "data": {
      "text/html": [
       "\n",
       "    <div>\n",
       "      \n",
       "      <progress value='15' max='15' style='width:300px; height:20px; vertical-align: middle;'></progress>\n",
       "      [15/15 00:00]\n",
       "    </div>\n",
       "    "
      ],
      "text/plain": [
       "<IPython.core.display.HTML object>"
      ]
     },
     "metadata": {},
     "output_type": "display_data"
    },
    {
     "data": {
      "text/plain": [
       "{'eval_loss': 0.16908247768878937,\n",
       " 'eval_accuracy': 0.9652777777777778,\n",
       " 'eval_precision': 0.9338842975206612,\n",
       " 'eval_recall': 0.9826086956521739,\n",
       " 'eval_f1': 0.9576271186440678,\n",
       " 'eval_runtime': 0.8754,\n",
       " 'eval_samples_per_second': 258.173,\n",
       " 'eval_steps_per_second': 17.135,\n",
       " 'epoch': 8.0}"
      ]
     },
     "execution_count": 694,
     "metadata": {},
     "output_type": "execute_result"
    }
   ],
   "source": [
    "trainer.evaluate()"
   ]
  },
  {
   "cell_type": "code",
   "execution_count": 696,
   "id": "570926fe-0c6e-4ded-a791-1b207899a562",
   "metadata": {
    "scrolled": true
   },
   "outputs": [],
   "source": [
    "for idx, example in enumerate(anno_tok):\n",
    "    example['prediction'] = predictions[idx].tolist()  \n",
    "    example['gold'] = labels[idx].tolist()             \n"
   ]
  },
  {
   "cell_type": "code",
   "execution_count": 697,
   "id": "b3555664-c8d2-4925-8497-73c7c27aec0e",
   "metadata": {},
   "outputs": [],
   "source": [
    "for idx, example in enumerate(test_tok):\n",
    "    example['prediction'] = test_predictions[idx].tolist()  \n",
    "    example['gold'] = test_labels[idx].tolist()             \n"
   ]
  },
  {
   "cell_type": "code",
   "execution_count": null,
   "id": "24bad123-be85-4989-972f-f9e0d1a6add7",
   "metadata": {},
   "outputs": [],
   "source": [
    "print(anno_tok[0])"
   ]
  },
  {
   "cell_type": "code",
   "execution_count": null,
   "id": "44609975-6686-4f71-b4e8-3648f3572a7d",
   "metadata": {},
   "outputs": [],
   "source": [
    "print(test_tok[0])"
   ]
  },
  {
   "cell_type": "code",
   "execution_count": 700,
   "id": "22c0cc9c-a3de-4f9b-ba15-7fb1992b18d1",
   "metadata": {},
   "outputs": [
    {
     "data": {
      "text/plain": [
       "50"
      ]
     },
     "execution_count": 700,
     "metadata": {},
     "output_type": "execute_result"
    }
   ],
   "source": [
    "len(anno_tok)"
   ]
  },
  {
   "cell_type": "code",
   "execution_count": 701,
   "id": "f8eccec3-dbc8-49fa-ac98-abeb6a1e8d26",
   "metadata": {},
   "outputs": [
    {
     "data": {
      "text/plain": [
       "293"
      ]
     },
     "execution_count": 701,
     "metadata": {},
     "output_type": "execute_result"
    }
   ],
   "source": [
    "len(test_tok)"
   ]
  },
  {
   "cell_type": "code",
   "execution_count": 702,
   "id": "e0f1b95a-fdf5-48f3-b7b8-73907fc15160",
   "metadata": {
    "scrolled": true
   },
   "outputs": [],
   "source": [
    "def clean_and_group(data):\n",
    "    special_tokens = ['[CLS]', '[SEP]', '[PAD]', '[UNK]', '[MASK]']\n",
    "\n",
    "    word_ids = data['word_ids']\n",
    "    predictions = data['prediction']\n",
    "    gold = data['gold']\n",
    "    tokens = data['tokenized_tokens']\n",
    "\n",
    "    clean_word_ids = []\n",
    "    clean_predictions = []\n",
    "    clean_gold = []\n",
    "\n",
    "    for token, wid, pred, g in zip(tokens, word_ids, predictions, gold):\n",
    "        if token not in special_tokens and wid is not None:\n",
    "            clean_word_ids.append(wid)\n",
    "            clean_predictions.append(pred)\n",
    "            clean_gold.append(g)\n",
    "\n",
    "    grouped_preds = []\n",
    "    grouped_gold = []\n",
    "    current_wid = None\n",
    "    temp_preds = []\n",
    "    temp_gold = []\n",
    "\n",
    "    for wid, pred, g in zip(clean_word_ids, clean_predictions, clean_gold):\n",
    "        if wid != current_wid:\n",
    "            if temp_preds:\n",
    "                grouped_preds.append(temp_preds[0]) \n",
    "                grouped_gold.append(temp_gold[0])\n",
    "            current_wid = wid\n",
    "            temp_preds = [pred]\n",
    "            temp_gold = [g]\n",
    "        else:\n",
    "            temp_preds.append(pred)\n",
    "            temp_gold.append(g)\n",
    "\n",
    "    if temp_preds:\n",
    "        grouped_preds.append(temp_preds[0])\n",
    "        grouped_gold.append(temp_gold[0])\n",
    "\n",
    "    return grouped_preds, grouped_gold\n"
   ]
  },
  {
   "cell_type": "code",
   "execution_count": 703,
   "id": "6818d606-6d8c-46d8-b3f8-8dcb32383954",
   "metadata": {},
   "outputs": [],
   "source": [
    "all_preds = []\n",
    "all_golds = []\n",
    "\n",
    "for example in anno_tok:\n",
    "    preds, golds = clean_and_group(example)\n",
    "    all_preds.append(preds)\n",
    "    all_golds.append(golds)\n"
   ]
  },
  {
   "cell_type": "code",
   "execution_count": 704,
   "id": "e9c80eb9-b10f-45e7-b53a-586220561800",
   "metadata": {},
   "outputs": [],
   "source": [
    "all_test_preds = []\n",
    "all_test_golds = []\n",
    "\n",
    "for example in test_tok:\n",
    "    test_preds, test_golds = clean_and_group(example)\n",
    "    all_test_preds.append(test_preds)\n",
    "    all_test_golds.append(test_golds)\n"
   ]
  },
  {
   "cell_type": "code",
   "execution_count": 705,
   "id": "d1c3569a-f7c6-4d07-aee9-021ae5ccfb35",
   "metadata": {},
   "outputs": [
    {
     "data": {
      "text/plain": [
       "293"
      ]
     },
     "execution_count": 705,
     "metadata": {},
     "output_type": "execute_result"
    }
   ],
   "source": [
    "len(all_test_preds)"
   ]
  },
  {
   "cell_type": "code",
   "execution_count": 706,
   "id": "716b3526-d93a-4a1a-94a7-d06d3a4155d5",
   "metadata": {},
   "outputs": [
    {
     "data": {
      "text/plain": [
       "293"
      ]
     },
     "execution_count": 706,
     "metadata": {},
     "output_type": "execute_result"
    }
   ],
   "source": [
    "len(all_test_golds)"
   ]
  },
  {
   "cell_type": "code",
   "execution_count": 707,
   "id": "5187f066-dc0c-47b4-9951-e97fe82b90f2",
   "metadata": {},
   "outputs": [
    {
     "data": {
      "text/plain": [
       "50"
      ]
     },
     "execution_count": 707,
     "metadata": {},
     "output_type": "execute_result"
    }
   ],
   "source": [
    "len(all_preds)"
   ]
  },
  {
   "cell_type": "code",
   "execution_count": 708,
   "id": "dced57b9-b4c2-4742-b9b9-c1b476e9b5cb",
   "metadata": {},
   "outputs": [
    {
     "data": {
      "text/plain": [
       "50"
      ]
     },
     "execution_count": 708,
     "metadata": {},
     "output_type": "execute_result"
    }
   ],
   "source": [
    "len(all_golds)"
   ]
  },
  {
   "cell_type": "code",
   "execution_count": 709,
   "id": "8736ed19-e038-4a4c-a160-f1a7b7dd6ccd",
   "metadata": {},
   "outputs": [
    {
     "name": "stdout",
     "output_type": "stream",
     "text": [
      "[0, 0, 0, 0, 0, 0, 0, 0, 0, 1, 1, 1, 1, 0, 0, 0, 0, 0, 0, 0, 1, 0]\n",
      "\n",
      "[-100, -100, 0, -100, -100, -100, -100, -100, -100, -100, -100, -100, -100, -100, -100, -100, -100, -100, -100, -100, -100, -100]\n"
     ]
    }
   ],
   "source": [
    "print(all_preds[8])\n",
    "print()\n",
    "print(all_golds[8])"
   ]
  },
  {
   "cell_type": "code",
   "execution_count": 710,
   "id": "e1e15d79-a5f7-4417-a4e6-d492f6d082d0",
   "metadata": {},
   "outputs": [],
   "source": [
    "final_preds = []\n",
    "\n",
    "for pred_sentence, gold_sentence in zip(all_preds, all_golds):\n",
    "    for pred_label, gold_label in zip(pred_sentence, gold_sentence):\n",
    "        if gold_label != -100:\n",
    "            final_preds.append(pred_label)\n",
    "\n",
    "flat_golds = []\n",
    "for gold_sentence in all_golds:\n",
    "    for g in gold_sentence:\n",
    "        flat_golds.append(g)\n"
   ]
  },
  {
   "cell_type": "code",
   "execution_count": 711,
   "id": "ffbdba5b-b1b2-4e92-b21b-35c4029c602f",
   "metadata": {},
   "outputs": [],
   "source": [
    "final_test_preds = []\n",
    "\n",
    "for test_pred_sentence, test_gold_sentence in zip(all_test_preds, all_test_golds):\n",
    "    for test_pred_label, test_gold_label in zip(test_pred_sentence, test_gold_sentence):\n",
    "        if test_gold_label != -100:\n",
    "            final_test_preds.append(test_pred_label)\n",
    "\n",
    "flat_test_golds = []\n",
    "for test_gold_sentence in all_test_golds:\n",
    "    for g in test_gold_sentence:\n",
    "        flat_test_golds.append(g)\n"
   ]
  },
  {
   "cell_type": "code",
   "execution_count": 712,
   "id": "691ce0b8-6a4d-46b0-8ebc-a5b4dfdea1ab",
   "metadata": {},
   "outputs": [
    {
     "name": "stdout",
     "output_type": "stream",
     "text": [
      "Lines in input file (excluding header): 50\n",
      "Tokens with gold != -100 in gold labels: 50\n",
      "Length of final_preds: 50\n"
     ]
    }
   ],
   "source": [
    "with open(anno_file, \"r\", encoding=\"utf-8\") as f:\n",
    "    lines = f.readlines()\n",
    "\n",
    "data_lines = lines[1:] \n",
    "\n",
    "num_valid_tokens = sum(1 for gold in flat_golds if gold != -100)\n",
    "\n",
    "print(f\"Lines in input file (excluding header): {len(data_lines)}\")\n",
    "print(f\"Tokens with gold != -100 in gold labels: {num_valid_tokens}\")\n",
    "print(f\"Length of final_preds: {len(final_preds)}\")\n"
   ]
  },
  {
   "cell_type": "code",
   "execution_count": 713,
   "id": "2924a221-4197-40fc-81f3-d1b8e68e139a",
   "metadata": {},
   "outputs": [
    {
     "name": "stdout",
     "output_type": "stream",
     "text": [
      "Lines in input file (excluding header): 293\n",
      "Tokens with gold != -100 in gold labels: 293\n",
      "Length of final_preds: 293\n"
     ]
    }
   ],
   "source": [
    "with open(test_file, \"r\", encoding=\"utf-8\") as f:\n",
    "    lines = f.readlines()\n",
    "\n",
    "test_data_lines = lines[1:]  \n",
    "\n",
    "test_num_valid_tokens = sum(1 for test_gold in flat_test_golds if test_gold != -100)\n",
    "\n",
    "print(f\"Lines in input file (excluding header): {len(test_data_lines)}\")\n",
    "print(f\"Tokens with gold != -100 in gold labels: {test_num_valid_tokens}\")\n",
    "print(f\"Length of final_preds: {len(final_test_preds)}\")\n"
   ]
  },
  {
   "cell_type": "code",
   "execution_count": 714,
   "id": "a2e0822d-c5f1-4899-a641-089785d4d141",
   "metadata": {},
   "outputs": [],
   "source": [
    "def output_tsv_aligned(input_file, output_file, predictions, column_name=\"pred\"):\n",
    "    with open(input_file, \"r\", encoding=\"utf-8\") as in_f:\n",
    "        lines = [line.rstrip(\"\\n\") for line in in_f if line.strip()]\n",
    "\n",
    "    header_line = lines[0]\n",
    "    data_lines = lines[1:]\n",
    "\n",
    "    if len(data_lines) != len(predictions):\n",
    "        raise ValueError(f\"Mismatch: {len(data_lines)} lines vs {len(predictions)} predictions.\")\n",
    "\n",
    "    original_columns = header_line.split(\"\\t\")\n",
    "    new_columns = original_columns + [column_name]\n",
    "\n",
    "    with open(output_file, \"w\", encoding=\"utf-8\") as out_f:\n",
    "        out_f.write(\"\\t\".join(str(col) for col in new_columns) + \"\\n\")\n",
    "\n",
    "        for line, pred_label in zip(data_lines, predictions):\n",
    "            pred_token = 1 if pred_label == 1 else 0\n",
    "            out_f.write(f\"{line}\\t{pred_token}\\n\")\n"
   ]
  },
  {
   "cell_type": "code",
   "execution_count": 715,
   "id": "291d51dc-3d0f-49f9-a0a4-a70897b8b899",
   "metadata": {},
   "outputs": [],
   "source": [
    "output_tsv_aligned(anno_file,'./anno_bert_prediction.tsv', final_preds)"
   ]
  },
  {
   "cell_type": "code",
   "execution_count": 716,
   "id": "0e3f6a15-9847-43f3-9f8b-5711222d9975",
   "metadata": {},
   "outputs": [],
   "source": [
    "output_tsv_aligned(test_file,'./test_bert_prediction.tsv', final_test_preds)"
   ]
  },
  {
   "cell_type": "markdown",
   "id": "d0f665c1-1b05-47bd-8276-02d1a5307c4f",
   "metadata": {},
   "source": [
    "We save the results in a .tsv file, which is then used to create the classification report and confusion matrix."
   ]
  },
  {
   "cell_type": "code",
   "execution_count": 718,
   "id": "e348a609-d5a4-40bd-a781-a524cfaa6f3f",
   "metadata": {},
   "outputs": [],
   "source": [
    "def evaluate_file(tsv_file):\n",
    "    \"\"\"\n",
    "    Evaluate a TSV file with gold and predicted labels by creating a classification report and Confusion Matrix.\n",
    "\n",
    "    Parameters:\n",
    "    tsv_file: Path to the TSV file.\n",
    "\n",
    "    Returns:\n",
    "    None\n",
    "    \"\"\"\n",
    "\n",
    "    columns = [\n",
    "        \"sentence_id\",\n",
    "        \"sentence_tokens\",\n",
    "        \"target_token_index\",\n",
    "        'is_metaphor',\n",
    "        \"is_it_relevant\",\n",
    "        \"text_id\",\n",
    "        \"pred\"\n",
    "    ]\n",
    "\n",
    "    df = pd.read_csv(tsv_file, sep=\"\\t\", header=0, names=columns)\n",
    "\n",
    "    y_true = df[\"is_it_relevant\"].apply(lambda x: 0 if x == 0 else 1).tolist()\n",
    "    y_pred = df[\"pred\"].apply(lambda x: 0 if x == 0 else 1).tolist()\n",
    "\n",
    "    report = classification_report(\n",
    "        y_true, y_pred, labels=[0, 1], target_names=['IRRELEVANT (0)' , 'RELEVANT (1)'], digits=3\n",
    "    )\n",
    "    print(\"Classification Report (on metaphor tokens only):\")\n",
    "    print(report)\n",
    "\n",
    "    cm = confusion_matrix(y_true, y_pred)\n",
    "    print(\"Confusion Matrix:\")\n",
    "\n",
    "    target_names = ['IRRELEVANT (0)' , 'RELEVANT (1)']\n",
    "    disp = ConfusionMatrixDisplay(\n",
    "        confusion_matrix=cm, display_labels=target_names\n",
    "    )\n",
    "    disp.plot(cmap=\"magma_r\")\n",
    "    plt.title(\"Confusion Matrix\")\n",
    "    plt.xlabel(\"Predicted Labels\")\n",
    "    plt.ylabel(\"True Labels\")\n",
    "    plt.show()"
   ]
  },
  {
   "cell_type": "code",
   "execution_count": 719,
   "id": "02b86f81-2a46-4d8b-bd1b-41c1fb8fc504",
   "metadata": {},
   "outputs": [
    {
     "name": "stdout",
     "output_type": "stream",
     "text": [
      "Classification Report (on metaphor tokens only):\n",
      "                precision    recall  f1-score   support\n",
      "\n",
      "IRRELEVANT (0)      0.944     0.472     0.630        36\n",
      "  RELEVANT (1)      0.406     0.929     0.565        14\n",
      "\n",
      "      accuracy                          0.600        50\n",
      "     macro avg      0.675     0.700     0.597        50\n",
      "  weighted avg      0.794     0.600     0.612        50\n",
      "\n",
      "Confusion Matrix:\n"
     ]
    },
    {
     "data": {
      "image/png": "[encoded data removed]",
      "text/plain": [
       "<Figure size 640x480 with 2 Axes>"
      ]
     },
     "metadata": {},
     "output_type": "display_data"
    }
   ],
   "source": [
    "evaluate_file(\"anno_bert_prediction.tsv\")"
   ]
  },
  {
   "cell_type": "code",
   "execution_count": 720,
   "id": "ac165293-b359-4901-a139-270f829590d4",
   "metadata": {},
   "outputs": [
    {
     "name": "stdout",
     "output_type": "stream",
     "text": [
      "Classification Report (on metaphor tokens only):\n",
      "                precision    recall  f1-score   support\n",
      "\n",
      "IRRELEVANT (0)      0.958     0.890     0.923       181\n",
      "  RELEVANT (1)      0.840     0.938     0.886       112\n",
      "\n",
      "      accuracy                          0.908       293\n",
      "     macro avg      0.899     0.914     0.904       293\n",
      "  weighted avg      0.913     0.908     0.909       293\n",
      "\n",
      "Confusion Matrix:\n"
     ]
    },
    {
     "data": {
      "image/png": "[encoded data removed]",
      "text/plain": [
       "<Figure size 640x480 with 2 Axes>"
      ]
     },
     "metadata": {},
     "output_type": "display_data"
    }
   ],
   "source": [
    "evaluate_file(\"test_bert_prediction.tsv\")"
   ]
  },
  {
   "cell_type": "code",
   "execution_count": 721,
   "id": "7186a0f0-dcc7-4d07-b387-b81694259e46",
   "metadata": {},
   "outputs": [],
   "source": [
    "def print_mismatched_output_lines(output_file):\n",
    "    with open(output_file, encoding=\"utf-8\") as f:\n",
    "        for line in f:\n",
    "            line = line.strip()\n",
    "            if not line or line.startswith(\"target_token_index\"):\n",
    "                continue\n",
    "\n",
    "            cols = line.split(\"\\t\")\n",
    "            if len(cols) < 6:\n",
    "                continue\n",
    "\n",
    "            try:\n",
    "                position = int(cols[2])\n",
    "                token_str = cols[1].strip('\"').replace('\"\"', '\"').replace('[empty]', '')\n",
    "                tokens = ast.literal_eval(token_str)\n",
    "\n",
    "                if isinstance(tokens, list):\n",
    "                    tokens = ['[empty]' if t is None else t for t in tokens]\n",
    "                else:\n",
    "                    raise ValueError(\"Tokens not a list\")\n",
    "\n",
    "                classified_word = tokens[position] if 0 <= position < len(tokens) else \"<INVALID_INDEX>\"\n",
    "\n",
    "            except Exception as e:\n",
    "                classified_word = \"<PARSE_ERROR>\"\n",
    "\n",
    "            gold = cols[4]       \n",
    "            pred = cols[6]\n",
    "\n",
    "            if gold == '1' and pred != '1':\n",
    "                print(f\"{line}\")\n",
    "                print(f\"False negative: word='{classified_word}', pred={pred}, gold={gold}\\n\")\n",
    "            elif pred != gold:\n",
    "                print(f\"{line}\")\n",
    "                print(f\"Mismatch: word='{classified_word}', pred={pred}, gold={gold}\\n\")\n"
   ]
  },
  {
   "cell_type": "code",
   "execution_count": null,
   "id": "9c891f16-55dd-4e0b-8a39-184c8e0f8ee7",
   "metadata": {
    "scrolled": true
   },
   "outputs": [],
   "source": [
    "print_mismatched_output_lines('anno_bert_prediction.tsv')"
   ]
  },
  {
   "cell_type": "code",
   "execution_count": null,
   "id": "5a88c14e-3ee5-42d5-96e0-dca4cc79c7dd",
   "metadata": {
    "scrolled": true
   },
   "outputs": [],
   "source": [
    "print_mismatched_output_lines('test_bert_prediction.tsv')"
   ]
  },
  {
   "cell_type": "code",
   "execution_count": 724,
   "id": "307bd8a0-10e8-4664-96ca-45e25464ad41",
   "metadata": {},
   "outputs": [],
   "source": [
    "def show_misclassified_tokens(tsv_file):\n",
    "    columns = [\n",
    "        \"sentence_number\",\n",
    "        \"sentence_tokens\",\n",
    "        \"token_text\", \n",
    "        \"metaphor\",\n",
    "        \"is_it_relevant\",\n",
    "        \"text_id\",\n",
    "        \"pred\"\n",
    "    ]\n",
    "\n",
    "    df = pd.read_csv(tsv_file, sep=\"\\t\", header=0, names=columns)\n",
    "\n",
    "    df[\"is_it_relevant\"] = df[\"is_it_relevant\"].apply(lambda x: 1 if x == 1 else 0)\n",
    "    df[\"pred\"] = df[\"pred\"].apply(lambda x: 1 if x == 1 else 0)\n",
    "\n",
    "    df[\"token_text\"] = df[\"token_text\"].astype(int)\n",
    "\n",
    "    df[\"tokens_list\"] = df[\"sentence_tokens\"].apply(lambda s: s.split())\n",
    "\n",
    "    misclassified = df[df[\"is_it_relevant\"] != df[\"pred\"]].copy()\n",
    "\n",
    "    misclassified[\"token_str\"] = misclassified.apply(\n",
    "        lambda row: row[\"tokens_list\"][row[\"token_text\"]]\n",
    "        if row[\"token_text\"] < len(row[\"tokens_list\"])\n",
    "        else \"[INDEX_ERR]\",\n",
    "        axis=1\n",
    "    )\n",
    "\n",
    "    fp_rows = misclassified[\n",
    "        (misclassified[\"is_it_relevant\"] == 0) & (misclassified[\"pred\"] == 1)\n",
    "    ]\n",
    "    fn_rows = misclassified[\n",
    "        (misclassified[\"is_it_relevant\"] == 1) & (misclassified[\"pred\"] == 0)\n",
    "    ]\n",
    "\n",
    "    fp_tokens = fp_rows[\"token_str\"].tolist()\n",
    "    fn_tokens = fn_rows[\"token_str\"].tolist()\n",
    "\n",
    "    print(f\"Number of misclassified metaphor tokens: {len(misclassified)}\")\n",
    "    print(f\"\\nFalse Positives ({len(fp_tokens)}):\")\n",
    "    for _, row in fp_rows.iterrows():\n",
    "        print(f'[FP] Token: \"{row[\"token_str\"]}\" | Sentence: {\" \".join(row[\"tokens_list\"])}\\n')\n",
    "\n",
    "    print(f\"\\nFalse Negatives ({len(fn_tokens)}):\")\n",
    "    for _, row in fn_rows.iterrows():\n",
    "        print(f'[FN] Token: \"{row[\"token_str\"]}\" | Sentence: {\" \".join(row[\"tokens_list\"])}\\n')\n",
    "\n",
    "    return fp_tokens, fn_tokens\n"
   ]
  },
  {
   "cell_type": "code",
   "execution_count": null,
   "id": "6587501a-e6b8-4b6c-afbd-c33eb5d3dc9b",
   "metadata": {},
   "outputs": [],
   "source": [
    "anno_fp, anno_fn = show_misclassified_tokens(\"anno_bert_prediction.tsv\")"
   ]
  },
  {
   "cell_type": "code",
   "execution_count": null,
   "id": "1af1d87c-5cc1-4a84-9381-d531954a08d6",
   "metadata": {},
   "outputs": [],
   "source": [
    "print(anno_fp, '\\n', anno_fn)"
   ]
  },
  {
   "cell_type": "code",
   "execution_count": null,
   "id": "3ccf6a5d-28bd-4d93-8e6f-b60b8fa3232a",
   "metadata": {},
   "outputs": [],
   "source": [
    "test_fp, test_fn = show_misclassified_tokens(\"test_bert_prediction.tsv\")"
   ]
  },
  {
   "cell_type": "code",
   "execution_count": null,
   "id": "811c39e9-fe91-4c08-986d-be6a2bccd57e",
   "metadata": {},
   "outputs": [],
   "source": []
  },
  {
   "cell_type": "markdown",
   "id": "e63b0674-1f04-4c81-ae78-f153dfb3faa3",
   "metadata": {},
   "source": [
    "## Saving and loading the model"
   ]
  },
  {
   "cell_type": "code",
   "execution_count": 347,
   "id": "f0fac2db-a3d4-43bc-b4e0-0150bed0d166",
   "metadata": {},
   "outputs": [],
   "source": [
    "# model.save_pretrained(\"model_\")"
   ]
  },
  {
   "cell_type": "code",
   "execution_count": 348,
   "id": "b9c1b463-ab8e-48fd-8539-26ababb5a99d",
   "metadata": {},
   "outputs": [
    {
     "data": {
      "text/plain": [
       "('model_\\\\tokenizer_config.json',\n",
       " 'model_\\\\special_tokens_map.json',\n",
       " 'model_\\\\vocab.txt',\n",
       " 'model_\\\\added_tokens.json',\n",
       " 'model_\\\\tokenizer.json')"
      ]
     },
     "execution_count": 348,
     "metadata": {},
     "output_type": "execute_result"
    }
   ],
   "source": [
    "# tokenizer.save_pretrained(\"model_\")"
   ]
  },
  {
   "cell_type": "code",
   "execution_count": 351,
   "id": "5b966ee9-8502-4211-866c-73d8343c8a6f",
   "metadata": {},
   "outputs": [],
   "source": [
    "# trainer.save_model(\"model_\")  \n",
    "# trainer.save_state()                      "
   ]
  },
  {
   "cell_type": "code",
   "execution_count": 353,
   "id": "81849a13-c1c3-402f-821d-e01f3b5a4084",
   "metadata": {},
   "outputs": [
    {
     "name": "stderr",
     "output_type": "stream",
     "text": [
      "C:\\Users\\melou\\AppData\\Local\\Temp\\ipykernel_20516\\896808780.py:7: FutureWarning: `tokenizer` is deprecated and will be removed in version 5.0.0 for `Trainer.__init__`. Use `processing_class` instead.\n",
      "  load_trainer = Trainer(model=load_model, args=args, tokenizer=load_tokenizer)\n"
     ]
    }
   ],
   "source": [
    "from transformers import AutoModelForTokenClassification, AutoTokenizer, TrainingArguments, Trainer\n",
    "\n",
    "load_model = AutoModelForTokenClassification.from_pretrained(\"model_\")\n",
    "load_tokenizer = AutoTokenizer.from_pretrained(\"model_\")\n",
    "args = TrainingArguments(output_dir=\"model_\")\n",
    "load_trainer = Trainer(model=load_model, args=args, tokenizer=load_tokenizer)\n"
   ]
  },
  {
   "cell_type": "markdown",
   "id": "b58778fb-0180-4a16-9588-6475c8e8cec1",
   "metadata": {},
   "source": [
    "## Classifying a single sentence"
   ]
  },
  {
   "cell_type": "code",
   "execution_count": 357,
   "id": "c4c1421a-22f6-4d14-b0f7-d2e5bc0a6bb4",
   "metadata": {},
   "outputs": [],
   "source": [
    "from datasets import Dataset\n",
    "\n",
    "def mega_function_v2(sentence_tokens, metaphor_idx, tokenizer, max_length=128):\n",
    "    \"\"\"\n",
    "    Preprocess a single sentence for BERT input.\n",
    "    Only one word (metaphor target) is labeled. All others get -100.\n",
    "\n",
    "    Parameters:\n",
    "    - sentence_tokens: List[str]\n",
    "    - metaphor_idx: int (index of metaphor word)\n",
    "    - tokenizer: HuggingFace tokenizer\n",
    "    - max_length: int (for truncation and padding)\n",
    "\n",
    "    Returns:\n",
    "    - tokenized_data: list of dicts with tokenization details\n",
    "    - final_dataset: HuggingFace Dataset with input_ids, attention_mask, labels\n",
    "    \"\"\"\n",
    "    if metaphor_idx < 0 or metaphor_idx >= len(sentence_tokens):\n",
    "        raise ValueError(\"Invalid metaphor_idx\")\n",
    "    raw_labels = [-100] * len(sentence_tokens)\n",
    "    raw_labels[metaphor_idx] = 1\n",
    "\n",
    "    tokenized = tokenizer(\n",
    "        sentence_tokens,\n",
    "        is_split_into_words=True,\n",
    "        truncation=True,\n",
    "        padding='max_length',\n",
    "        max_length=max_length,\n",
    "        return_tensors=None\n",
    "    )\n",
    "\n",
    "    word_ids = tokenized.word_ids()\n",
    "\n",
    "    aligned_labels = []\n",
    "    for word_id in word_ids:\n",
    "        if word_id is None:\n",
    "            aligned_labels.append(-100)\n",
    "        else:\n",
    "            aligned_labels.append(raw_labels[word_id])\n",
    "\n",
    "    tokenized_data = [{\n",
    "        \"input_ids\": tokenized[\"input_ids\"],\n",
    "        \"attention_mask\": tokenized[\"attention_mask\"],\n",
    "        \"labels\": aligned_labels,\n",
    "        \"word_ids\": word_ids,\n",
    "        \"tokenized_tokens\": tokenizer.convert_ids_to_tokens(tokenized[\"input_ids\"])\n",
    "    }]\n",
    "\n",
    "    dataset = Dataset.from_dict({\n",
    "        \"input_ids\": [tokenized[\"input_ids\"]],\n",
    "        \"attention_mask\": [tokenized[\"attention_mask\"]],\n",
    "        \"labels\": [aligned_labels]\n",
    "    })\n",
    "\n",
    "    return tokenized_data, dataset\n"
   ]
  },
  {
   "cell_type": "code",
   "execution_count": 359,
   "id": "8369860d-7c61-4089-8cad-be162a9844e2",
   "metadata": {},
   "outputs": [],
   "source": [
    "from collections import Counter\n",
    "import numpy as np\n",
    "\n",
    "def transform_to_test_sentence_v4(example_dict, trainer, tokenizer, max_length=128):\n",
    "    \"\"\"\n",
    "    Predict label for metaphor word in a sentence using token classification model.\n",
    "\n",
    "    Parameters:\n",
    "    - example_dict: {\n",
    "        'sentence_tokens': List[str],\n",
    "        'target_token_index': int\n",
    "      }\n",
    "    - trainer: HuggingFace Trainer\n",
    "    - tokenizer: HuggingFace tokenizer\n",
    "\n",
    "    Returns:\n",
    "    - int: predicted label (0 or 1) for the target word\n",
    "    \"\"\"\n",
    "    sentence_tokens = example_dict[\"sentence_tokens\"]\n",
    "    metaphor_idx = example_dict[\"target_token_index\"]\n",
    "\n",
    "    tokenized_data, dataset = mega_function_v2(\n",
    "        sentence_tokens=sentence_tokens,\n",
    "        metaphor_idx=metaphor_idx,\n",
    "        tokenizer=tokenizer,\n",
    "        max_length=max_length\n",
    "    )\n",
    "\n",
    "    predictions, _, _ = trainer.predict(dataset)\n",
    "    pred_labels = np.argmax(predictions, axis=2)\n",
    "\n",
    "    word_ids = tokenized_data[0][\"word_ids\"]\n",
    "    token_preds = pred_labels[0]\n",
    "\n",
    "    metaphor_token_predictions = [\n",
    "        pred for wid, pred in zip(word_ids, token_preds) if wid == metaphor_idx\n",
    "    ]\n",
    "\n",
    "    if not metaphor_token_predictions:\n",
    "        raise ValueError(\"No predictions found for metaphor token index.\")\n",
    "\n",
    "    majority_label = Counter(metaphor_token_predictions).most_common(1)[0][0]\n",
    "    return majority_label\n"
   ]
  },
  {
   "cell_type": "code",
   "execution_count": 360,
   "id": "08a90e75-f40e-4189-8bbd-8bb6e2b4f6fe",
   "metadata": {},
   "outputs": [
    {
     "data": {
      "text/html": [],
      "text/plain": [
       "<IPython.core.display.HTML object>"
      ]
     },
     "metadata": {},
     "output_type": "display_data"
    },
    {
     "name": "stdout",
     "output_type": "stream",
     "text": [
      "1\n",
      "barrier\n"
     ]
    }
   ],
   "source": [
    "example = {\n",
    "    \"sentence_number\": 101,\n",
    "    \"sentence_tokens\": ['Her', 'immune', 'system', 'is', 'like', 'a', 'defence', 'barrier', '.'],\n",
    "    \"target_token_index\": 7\n",
    "}\n",
    "\n",
    "preds = transform_to_test_sentence_v4(example, load_trainer, load_tokenizer)\n",
    "print(preds)\n",
    "\n",
    "if preds == 1:\n",
    "    metaphor_scope = example[\"sentence_tokens\"][example[\"target_token_index\"]]\n",
    "else:\n",
    "    metaphor_scope = ''\n",
    "\n",
    "print(metaphor_scope)"
   ]
  }
 ],
 "metadata": {
  "kernelspec": {
   "display_name": "Python [conda env:base] *",
   "language": "python",
   "name": "conda-base-py"
  },
  "language_info": {
   "codemirror_mode": {
    "name": "ipython",
    "version": 3
   },
   "file_extension": ".py",
   "mimetype": "text/x-python",
   "name": "python",
   "nbconvert_exporter": "python",
   "pygments_lexer": "ipython3",
   "version": "3.12.7"
  }
 },
 "nbformat": 4,
 "nbformat_minor": 5
}
